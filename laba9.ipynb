{
  "cells": [
    {
      "cell_type": "markdown",
      "metadata": {
        "id": "m2s4kN_QPQVe"
      },
      "source": [
        "# Введение в обучение с подкреплением  (Reinforcement Learning)\n",
        "\n",
        "\n",
        "<center>\n",
        "<img src=\"https://raw.githubusercontent.com/jcformanek/jcformanek.github.io/master/docs/assets/images/rl_in_space.png\" width=\"100%\" />\n",
        "</center>\n",
        "\n",
        "\n",
        "\n",
        "**Введение**\n",
        "\n",
        "На этом семинаре мы изучим обучение с подкреплением - тип машинного обучения без учителя, где агент учится выбирать действия, которые приводят к максимальному вознаграждению в долгосрочной перспективе. Обучение с подкреплением используется в широком спектре сложных задач, в том числе - в видеоиграх, например, [Atari](https://www.deepmind.com/blog/agent57-outperforming-the-human-atari-benchmark), [StarCraft II](https://www.deepmind.com/blog/alphastar-mastering-the-real-time-strategy-game-starcraft-ii) и [Dota II](https://openai.com/five/).\n",
        "\n",
        "На семинаре изучим классическую среду - [CartPole](https://www.gymlibrary.ml/environments/classic_control/cart_pole/), где агент должен научиться балансировать шестом на тележке (см лекцию), используя несколько различных подходов RL. По пути вы познакомитесь с некоторыми из самых важных концепций и терминологии в RL.\n",
        "\n",
        "**Темы:**\n",
        "* Reinforcement Learning (RL, Обучение с подкреплением)\n",
        "* Random Policy Search (Случайный поиск политики)\n",
        "* Policy Gradient (Градиент политики)\n",
        "* Q-Learning\n",
        "\n",
        "\n",
        "**Что надо сделать для лучшего понимания:**\n",
        "\n",
        "* почитать про библиотеку [JAX](https://github.com/google/jax).\n",
        "* вспомнить нейроки.\n",
        "\n"
      ]
    },
    {
      "cell_type": "markdown",
      "metadata": {
        "id": "6EqhIg1odqg0"
      },
      "source": [
        "### Настраиваем среду"
      ]
    },
    {
      "cell_type": "code",
      "execution_count": 1,
      "metadata": {
        "id": "4boGA9rYdt9l"
      },
      "outputs": [],
      "source": [
        "# @title Установка необходимых пакетов (надо просто запустить!) { display-mode: \"form\" }\n",
        "# @markdown Может занять несколько минут\n",
        "%%capture\n",
        "!pip install jaxlib\n",
        "!pip install jax\n",
        "!pip install git+https://github.com/deepmind/dm-haiku\n",
        "!pip install gym==0.25\n",
        "!pip install gym[box2d]\n",
        "!pip install optax\n",
        "!pip install matplotlib\n",
        "!pip install chex\n",
        "!pip install gym[classic_control]"
      ]
    },
    {
      "cell_type": "code",
      "execution_count": 2,
      "metadata": {
        "id": "gwbqggmcRjMy"
      },
      "outputs": [],
      "source": [
        "# @title Импорт необходимых пакетов (просто запустите ячейку) { display-mode: \"form\" }\n",
        "%%capture\n",
        "import copy\n",
        "from shutil import rmtree # deleting directories\n",
        "import random\n",
        "import collections # useful data structures\n",
        "import numpy as np\n",
        "import gym # reinforcement learning environments\n",
        "from gym.wrappers import RecordVideo\n",
        "import jax\n",
        "import jax.numpy as jnp # jax numpy\n",
        "import haiku as hk # jax neural network library\n",
        "import optax # jax optimizer library\n",
        "import matplotlib.pyplot as plt # graph plotting library\n",
        "from IPython.display import HTML\n",
        "from base64 import b64encode\n",
        "import chex\n",
        "\n",
        "# Hide warnings\n",
        "import warnings\n",
        "warnings.filterwarnings('ignore')"
      ]
    },
    {
      "cell_type": "markdown",
      "metadata": {
        "id": "-ZUp8i37dFbU"
      },
      "source": [
        "## 1. Ключевые концепции обучения с подкреплением\n",
        "\n",
        "Обучение с подкреплением (RL) является подразделом машинного обучения (ML). В отличие от таких областей, как контролируемое обучение, где мы даем примеры ожидаемого поведения нашим моделям, RL фокусируется на *целеориентированном* обучении из взаимодействий методом проб и ошибок. Алгоритмы RL изучают, что делать (т. е. какие оптимальные действия предпринять) в среде, чтобы максимизировать некий сигнал вознаграждения. В таких условиях, как видеоигра, сигналом вознаграждения может быть счет игры, т. е. алгоритмы RL будут пытаться максимизировать счет в игре, выбирая лучшие действия.\n",
        "\n",
        "<center>\n",
        "<img src=\"https://pettingzoo.farama.org/_images/environments-demo.gif\" width=\"40%\" />\n",
        "</center>\n",
        "\n",
        "[*Image Source*](https://pettingzoo.farama.org/)\n",
        "\n",
        "Другими словами, в RL у нас есть **агент**, который воспринимает **наблюдение** $o_t$ текущего состояния $s_t$ **окружающей среды** и должен выбрать **действие** $a_t$ для выполнения.\n",
        "\n",
        "Затем окружающая среда переходит в новое состояние $s_{t+1}$ в ответ на действие агента, а также дает агенту скалярное вознаграждение $r_t$, чтобы указать, насколько хорошим или плохим было выбранное действие, учитывая состояние окружающей среды.\n",
        "\n",
        "Целью в RL является максимизация агентом суммы вознаграждения, которое он получает от окружающей среды с течением времени. Нижний индекс $t$ используется для указания номера временного шага, т. е. $s_0$ - это состояние окружающей среды на начальном временном шаге, а $a_{99}$ - это действие агента на $99-м$ временном шаге."
      ]
    },
    {
      "cell_type": "markdown",
      "metadata": {
        "id": "Ghgy69hFRjMz"
      },
      "source": [
        "### Среда - OpenAI Gym\n",
        "Как упоминалось выше, среда получает от агента действие $a_t$ и возвращает вознаграждение $r_t$ и наблюдение $o_t$.\n",
        "\n",
        "OpenAI разработал пакет для Python под названием **Gym**, который включает реализации популярных сред и простой интерфейс для взаимодействия агента RL. Чтобы использовать поддерживаемую [среду gym](https://www.gymlibrary.ml/), все, что вам нужно сделать, это передать имя среды в функцию  `gym.make(<environment_name>)`.\n",
        "\n",
        "В этом уроке мы будем использовать простую среду под названием **CartPole**. В CartPole задача агента — научиться балансировать на шесте как можно дольше, перемещая тележку *влево* или *вправо*.\n",
        "\n",
        "<img src=\"https://user-images.githubusercontent.com/10854026/32486103-f15f19de-c3a5-11e7-81de-0605df939497.gif\" width=\"50%\" />"
      ]
    },
    {
      "cell_type": "code",
      "execution_count": 3,
      "metadata": {
        "id": "WfxzajMYRjMz"
      },
      "outputs": [],
      "source": [
        "# Create the environment\n",
        "env_name = \"CartPole-v0\"\n",
        "env = gym.make(env_name)"
      ]
    },
    {
      "cell_type": "markdown",
      "metadata": {
        "id": "y_BbftaJj3zu"
      },
      "source": [
        "### Состояние (States) и Наблюдение (Observations) - $s_t$ and $o_t$\n",
        "\n",
        "В RL агент воспринимает наблюдение за состоянием среды. В некоторых настройках наблюдение может включать всю информацию, лежащую в основе состояния среды. Такая среда называется **полностью наблюдаемой**. В других настройках агент может получать только частичную информацию о состоянии среды в своем наблюдении. Такая среда называется **частично наблюдаемой**.\n",
        "\n",
        "В оставшейся части этого руководства мы будем предполагать, что среда полностью наблюдаема, и поэтому будем использовать состояние $s_t$ и наблюдение $o_t$ взаимозаменяемо. В Gym мы получаем начальное наблюдение из среды, вызывая функцию `env.reset()`."
      ]
    },
    {
      "cell_type": "code",
      "execution_count": 4,
      "metadata": {
        "id": "HdS8nqOgRjM0",
        "colab": {
          "base_uri": "https://localhost:8080/"
        },
        "outputId": "ffb86ea6-d5b1-4c3e-f489-58c2865bb949"
      },
      "outputs": [
        {
          "output_type": "stream",
          "name": "stdout",
          "text": [
            "Initial State:: [ 0.01400608  0.0118178  -0.02507586  0.00298747]\n",
            "Environment Obs Space Shape: (4,)\n"
          ]
        }
      ],
      "source": [
        "# Reset the environment\n",
        "s_0 = env.reset()\n",
        "print(\"Initial State::\", s_0)\n",
        "\n",
        "# Get environment obs space\n",
        "obs_shape = env.observation_space.shape\n",
        "print(\"Environment Obs Space Shape:\", obs_shape)"
      ]
    },
    {
      "cell_type": "markdown",
      "metadata": {
        "id": "pUNX6mbotABo"
      },
      "source": [
        "В CartPole состояние окружающей среды представлено четырьмя числами: *угловое положение полюса, угловая скорость полюса, положение тележки, скорость тележки*."
      ]
    },
    {
      "cell_type": "markdown",
      "metadata": {
        "id": "hL1Nkgy7nUfn"
      },
      "source": [
        "### Действия (Actions) - $a_t$\n",
        "\n",
        "В RL действия обычно либо **дискретные**, либо **непрерывные**. Непрерывные действия задаются вектором действительных чисел. Дискретные действия задаются целочисленным значением. В средах, где мы можем подсчитать конечный набор действий, мы обычно используем дискретные действия.\n",
        "\n",
        "В CartPole есть только два действия: *влево* и *вправо*. Таким образом, действия могут быть представлены целыми числами $0$ и $1$. В gym мы можем легко получить список возможных действий следующим образом:"
      ]
    },
    {
      "cell_type": "code",
      "execution_count": 5,
      "metadata": {
        "id": "uOLZqU_LpIXh",
        "colab": {
          "base_uri": "https://localhost:8080/"
        },
        "outputId": "134cb9c8-46a5-4f91-bf17-b94391017492"
      },
      "outputs": [
        {
          "output_type": "stream",
          "name": "stdout",
          "text": [
            "Environment action space: Discrete(2)\n",
            "Number of actions: 2\n"
          ]
        }
      ],
      "source": [
        "# Get action space - e.g. discrete or continuous\n",
        "print(f\"Environment action space: {env.action_space}\")\n",
        "\n",
        "# Get num actions\n",
        "num_actions = env.action_space.n\n",
        "print(f\"Number of actions: {num_actions}\")"
      ]
    },
    {
      "cell_type": "markdown",
      "metadata": {
        "id": "tRsflxbDpoPm"
      },
      "source": [
        "### Политика агента (The Agent's Policy) - $\\pi$\n",
        "\n",
        "В RL агент выбирает действия на основе полученных наблюдений. Мы можем представить процесс выбора действия агента как функцию, которая принимает наблюдение в качестве входных данных и возвращает действие в качестве выходных данных. В RL мы обычно называем эту функцию **политикой** агента и обозначаем ее $\\pi(s_t)=a_t$. В RL мы обычно параметризуем нашу политику каким-либо образом, а затем пытаемся узнать оптимальные параметры. Параметризованная политика обычно обозначается $\\pi_\\theta$, где $\\theta$ — это набор параметров.\n",
        "\n",
        "**Упражнение 1:** В качестве упражнения давайте реализуем простую политику, которая принимает набор параметров и наблюдение в качестве входных данных и возвращает действие. Предположим, что наблюдение — это вектор из четырех чисел, как наблюдение CartPole, и что действие должно быть либо $0$, либо $1$. Предположим также, что параметры — это вектор из четырех действительных чисел. Тогда действие должно быть вычислено следующим образом.\n",
        "\n",
        "\n",
        "1. Вычислите [скалярное произведение векторов](https://www.mathsisfun.com/algebra/vectors-dot-product.html) между наблюдением и параметрами.\n",
        "2. Если результат больше нуля, верните действие $1$.\n",
        "3. В противном случае верните действие $0$.\n",
        "\n",
        "В этом упражнении мы постараемся использовать JAX как можно чаще. Поэтому постарайтесь использовать методы JAX для этой задачи. Ниже приведены некоторые полезные методы, которые вы можете использовать. Вам нужно будет завершить код в блоке ниже, заменив `...` правильным кодом.\n",
        "\n",
        "\n",
        "**Полезные методы:**\n",
        "* Вычислите скалярное произведение векторов с помощью `jax.numpy.dot` ([docs](https://jax.readthedocs.io/en/latest/_autosummary/jax.numpy.dot.html)).\n",
        "\n",
        "* Когда вы пытаетесь условно присвоить значение $0$ или $1$ действию на основе результата скалярного произведения, вам следует использовать `jax.lax.select` ([docs](https://jax.readthedocs.io/en/latest/_autosummary/jax.lax.select.html#jax.lax.select)).\n",
        "\n",
        "Метод `jax.lax.select` принимает три аргумента в качестве входных данных. Первый аргумент — это оператор, который будет оцениваться как `True` или `False`.\n",
        "\n",
        "Если оператор равен `True`, то `jax.lax.select` вернет свой второй аргумент.\n",
        "\n",
        "Если оператор имеет значение `False`, `jax.lax.select` вернет свой третий аргумент.\n",
        "\n"
      ]
    },
    {
      "cell_type": "code",
      "execution_count": 6,
      "metadata": {
        "id": "KSGCd7XB1z8k"
      },
      "outputs": [],
      "source": [
        "def linear_policy(params, obs):\n",
        "  \"\"\"A simple linear policy\n",
        "\n",
        "  Args:\n",
        "    params: a vector of four real-numbers that give the parameters of the policy\n",
        "    obs: a vector of four real-numbers that give the agent's observation\n",
        "\n",
        "  Returns:\n",
        "    a discrete action given by a 0 or 1\n",
        "  \"\"\"\n",
        "  # YOUR CODE\n",
        "  dot_product_result = jnp.dot(params, obs)\n",
        "\n",
        "  action = jax.lax.select(\n",
        "      dot_product_result > 0, # boolean statement goes here\n",
        "      1, # result when the statement is True goes here\n",
        "      0, # result when the statement is False goes here\n",
        "  )\n",
        "  # END YOUR CODE\n",
        "  return action"
      ]
    },
    {
      "cell_type": "code",
      "execution_count": 7,
      "metadata": {
        "id": "9EnnBvceb1f3",
        "colab": {
          "base_uri": "https://localhost:8080/"
        },
        "outputId": "5e66f559-7740-4cba-b37f-87fd2ae2bd8a"
      },
      "outputs": [
        {
          "output_type": "stream",
          "name": "stdout",
          "text": [
            "Your function is correct!\n"
          ]
        }
      ],
      "source": [
        "# @title Проверка упр 1  { display-mode: \"form\" }\n",
        "\n",
        "def check_linear_policy(linear_policy):\n",
        "  fixed_obs = jnp.array([1,1,2,4])\n",
        "\n",
        "  # check case1 - negative dot product.\n",
        "  # weights\n",
        "  params1 = jnp.array([1,1,1,1])\n",
        "  params2 = jnp.array([-1,-1,-1,-1])\n",
        "\n",
        "  hint1 = f\"Неправильный ответ, ваша линейная политика неверна. Действие при \\\n",
        "obs={fixed_obs} и params={params1} должно быть 1\"\n",
        "\n",
        "  hint2 = f\"Неправильный ответ, ваша линейная политика неверна. Действие при \\\n",
        "obs={fixed_obs} и params={params2} должно быть 0\"\n",
        "\n",
        "  hint = None\n",
        "  if linear_policy(params1, fixed_obs) != 1:\n",
        "    hint = hint1\n",
        "  elif linear_policy(params2, fixed_obs) != 0:\n",
        "    hint = hint2\n",
        "\n",
        "  if hint is not None:\n",
        "    print(hint)\n",
        "  else:\n",
        "    print(\"Your function is correct!\")\n",
        "\n",
        "try:\n",
        "  check_linear_policy(linear_policy)\n",
        "except Exception as e:\n",
        "    print(\"An Error Occured: {}\".format(e))"
      ]
    },
    {
      "cell_type": "markdown",
      "metadata": {
        "id": "PkuvT-jf6Ieh"
      },
      "source": [
        "### Функция перехода среды - $P$\n",
        "\n",
        "Теперь, когда у нас есть политика, мы можем передавать действия от агента среде. Затем среда перейдет в новое состояние в ответ на действие агента.\n",
        "\n",
        "В RL мы моделируем этот процесс с помощью **функции перехода состояния** $P$, которая принимает текущее состояние $s_t$ и действие $a_t$ в качестве входных данных и возвращает следующее состояние $s_{t+1}$ в качестве выходных данных:\n",
        "\n",
        "<center>\n",
        "$s_{t+1}=P(s_t, a_t)$\n",
        "</center>\n",
        "\n",
        "В gym мы можем передавать действия среде, вызывая функцию `env.step(<action>)`. Затем функция вернет четыре значения:\n",
        "- **следующее наблюдение**\n",
        "- **награду** за выполненное действие\n",
        "- логический флаг, указывающий, **завершена** игра\n",
        "- некоторую **дополнительную** информацию."
      ]
    },
    {
      "cell_type": "code",
      "execution_count": 8,
      "metadata": {
        "id": "hh0j9-Tk7olb",
        "colab": {
          "base_uri": "https://localhost:8080/"
        },
        "outputId": "bc5656d2-ed1e-4592-9fc0-a3f9364a029b"
      },
      "outputs": [
        {
          "output_type": "stream",
          "name": "stdout",
          "text": [
            "Observation: [-0.00022236  0.04185389  0.02515144 -0.00828265]\n",
            "Action: 1\n",
            "Next observation: [ 0.00061471  0.23660627  0.02498579 -0.2929251 ]\n",
            "Reward: 1.0\n",
            "Game is done: False\n"
          ]
        }
      ],
      "source": [
        "# Get the initial obs by resetting the env\n",
        "initial_obs = env.reset()\n",
        "\n",
        "# Randomly sample actions from env\n",
        "action = env.action_space.sample()\n",
        "\n",
        "# Step the environment\n",
        "next_obs, reward, done, info = env.step(action)\n",
        "\n",
        "print(\"Observation:\", initial_obs)\n",
        "print(\"Action:\", action)\n",
        "print(\"Next observation:\", next_obs)\n",
        "print(\"Reward:\", reward)\n",
        "print(\"Game is done:\", done)"
      ]
    },
    {
      "cell_type": "markdown",
      "metadata": {
        "id": "bX9iZtu48UYn"
      },
      "source": [
        "### Возврат эпизода - $R_t$\n",
        "\n",
        "В RL мы обычно разбиваем взаимодействие агента с окружающей средой на **эпизоды**. Сумма всех вознаграждений, собранных во время эпизода, - это то, что мы называем **возвратом** эпизода - $R_t$:\n",
        "\n",
        "<center>\n",
        "$R_t=\\sum_{t=0}^Tr_t$,\n",
        "</center>\n",
        "\n",
        "где $r_t$ - это вознаграждение в момент времени $t$, а $T$ - это последний временной шаг. Цель в RL - выбрать действия, которые максимизируют этот ожидаемый будущий возврат $R_t$."
      ]
    },
    {
      "cell_type": "markdown",
      "metadata": {
        "id": "y6KZA1Nq9p47"
      },
      "source": [
        "### Цикл агент-среда\n",
        "Теперь, когда мы знаем, что такое политика, и знаем, как пошагово проходить среду, давайте закроем цикл агент-среда.\n",
        "\n",
        "**Упражнение 2:** Напишите функцию, которая запускает один эпизод CartPole, последовательно выбирая действия и пошагово проходя среду. Вам следует использовать линейную политику, которую мы определили ранее, для выбора действий. Функция должна отслеживать полученное вознаграждение и выводить возврат в конце эпизода.\n",
        "\n",
        "В CartPole агент получает вознаграждение `1` за каждый временной шаг, когда шест все еще стоит вертикально. Если шест падает, игра заканчивается, и агент больше не получает вознаграждения. Игра также заканчивается после `200` временных шагов, поэтому максимальное вознаграждение, которое может получить агент, составляет `200`."
      ]
    },
    {
      "cell_type": "code",
      "execution_count": 9,
      "metadata": {
        "id": "Buy0X7mi-gHP"
      },
      "outputs": [],
      "source": [
        "def run_episode(env):\n",
        "  episode_return = 0 # counter to keep track of rewards\n",
        "  done = False # initially set to False\n",
        "  params = jnp.array([1,-2,2,-1]) # fixed policy parameters\n",
        "\n",
        "  ## YOUR CODE\n",
        "\n",
        "  obs = env.reset() # TODO: get the initial obs from the env\n",
        "\n",
        "  while not done: # loop until episode is done\n",
        "\n",
        "    action = linear_policy(params, obs) # TODO: compute action using linear policy\n",
        "    action = np.array(action) # We need to the convert the action from the policy to a np.array\n",
        "\n",
        "    obs, reward, done, info = env.step(action) # TODO: step the environment\n",
        "\n",
        "    episode_return += reward # TODO: add reward to episode return\n",
        "\n",
        "  return episode_return"
      ]
    },
    {
      "cell_type": "code",
      "execution_count": 10,
      "metadata": {
        "id": "bA2Orj9PVbKO",
        "colab": {
          "base_uri": "https://localhost:8080/"
        },
        "outputId": "13bdd998-0738-49b4-8a5a-41829a3d6d87"
      },
      "outputs": [
        {
          "output_type": "stream",
          "name": "stdout",
          "text": [
            "Looks correct!\n"
          ]
        }
      ],
      "source": [
        "# @title Проверка упр 2 (run me) { display-mode: \"form\" }\n",
        "\n",
        "try:\n",
        "  env.seed(42)\n",
        "  if run_episode(env) == 31:\n",
        "    print(\"Looks correct!\")\n",
        "  else:\n",
        "    print(\"Looks like your implementation might be wrong.\")\n",
        "except Exception as e:\n",
        "    print(\"An Error Occured: {}\".format(e))"
      ]
    },
    {
      "cell_type": "markdown",
      "metadata": {
        "id": "fUGdzHxJnZGl"
      },
      "source": [
        "В CartPole среда считается решенной, когда агент может надежно достичь возврата эпизода 500. Как вы можете видеть, наша текущая политика далека от оптимальной.\n",
        "\n",
        "Один из способов найти оптимальную политику — это случайным образом пробовать разные политики, пока не найдем оптимальную. Эта стратегия называется случайным поиском политики и может быть на удивление эффективной.\n",
        "\n",
        "Прежде чем мы реализуем случайный поиск политики, давайте быстро рассмотрим общий цикл обучения RL, который мы будем использовать для реализации алгоритмов в оставшейся части этого руководства.\n",
        "\n",
        "### Цикл обучения RL общего назначения\n",
        "Мы реализовали для вас цикл обучения RL общего назначения. Цикл обучения принимает несколько аргументов в качестве входных данных, но три наиболее важных для понимания — это `agent_select_action_func`, `agent_learn_func` и `agent_memory`.\n",
        "\n",
        "* `agent_select_action_func` — это функция, которую мы определяем и можем передать в цикл обучения. Функция принимает наблюдение и набор `agent_params` в качестве входных данных и должна возвращать действие.\n",
        "* `agent_learn_func` — это еще один метод, который мы определяем и передаем в цикл обучения. Он должен принимать параметры агента и некоторые «воспоминания» в качестве входных данных, а затем обновлять и возвращать агентам новые параметры.\n",
        "* `agent_memory` — это модуль общего назначения, который мы определяем, который может хранить некоторую релевантную информацию об опыте агента в среде, которую можно использовать в `agent_learn_func`.\n",
        "\n",
        "Ниже приведена функция цикла обучения, которую мы реализовали для вас. Вы можете просмотреть код и попытаться понять его, но это не обязательно. Таким образом, мы скрыли код по умолчанию, просто убедитесь, что вы запустили ячейку кода, прежде чем двигаться дальше, потому что цикл обучения далее в коде."
      ]
    },
    {
      "cell_type": "code",
      "execution_count": 11,
      "metadata": {
        "id": "ZWBwz3zMRjM0"
      },
      "outputs": [],
      "source": [
        "#@title Training loop (run me) { display-mode: \"form\" }\n",
        "\n",
        "# NamedTuple to store transitions\n",
        "Transition = collections.namedtuple(\"Transition\", [\"obs\", \"action\", \"reward\", \"next_obs\", \"done\"])\n",
        "\n",
        "# Training Loop\n",
        "def run_training_loop(env_name, agent_params, agent_select_action_func,\n",
        "    agent_actor_state=None, agent_learn_func=None, agent_learner_state=None,\n",
        "    agent_memory=None, num_episodes=1000, evaluator_period=100,\n",
        "    evaluation_episodes=8, learn_steps_per_episode=1,\n",
        "    train_every_timestep=False, video_subdir=\"\",):\n",
        "    \"\"\"\n",
        "    This function runs several episodes in an environment and periodically does\n",
        "    some agent learning and evaluation.\n",
        "\n",
        "    Args:\n",
        "        env: a gym environment.\n",
        "        agent_params: an object to store parameters that the agent uses.\n",
        "        agent_select_func: a function that does action selection for the agent.\n",
        "        agent_actor_state (optional): an object that stores the internal state\n",
        "            of the agents action selection function.\n",
        "        agent_learn_func (optional): a function that does some learning for the\n",
        "            agent by updating the agent parameters.\n",
        "        agent_learn_state (optional): an object that stores the internal state\n",
        "            of the agent learn function.\n",
        "        agent_memory (optional): an object for storing an retrieving historical\n",
        "            experience.\n",
        "        num_episodes: how many episodes to run.\n",
        "        evaluator_period: how often to run evaluation.\n",
        "        evaluation_episodes: how many evaluation episodes to run.\n",
        "        train_every_timestep: whether to train every timestep rather than at the end\n",
        "            of the episode.\n",
        "        video_subdir: subdirectory to store epsiode recordings.\n",
        "\n",
        "    Returns:\n",
        "        episode_returns: list of all the episode returns.\n",
        "        evaluator_episode_returns: list of all the evaluator episode returns.\n",
        "    \"\"\"\n",
        "\n",
        "    # Setup Cartpole environment and recorder\n",
        "    env = gym.make(env_name, render_mode=\"rgb_array\") # training environment\n",
        "    eval_env = gym.make(env_name, render_mode=\"rgb_array\") # evaluation environment\n",
        "\n",
        "    # Video dir\n",
        "    video_dir = \"./video\"+\"/\"+video_subdir\n",
        "\n",
        "    # Clear video dir\n",
        "    try:\n",
        "      rmtree(video_dir)\n",
        "    except:\n",
        "      pass\n",
        "\n",
        "    # Wrap in recorder\n",
        "    env = RecordVideo(env, video_dir+\"/train\", episode_trigger=lambda x: (x % evaluator_period) == 0)\n",
        "    eval_env = RecordVideo(eval_env, video_dir+\"/eval\", episode_trigger=lambda x: (x % evaluation_episodes) == 0)\n",
        "\n",
        "    # JAX random number generator\n",
        "    rng = hk.PRNGSequence(jax.random.PRNGKey(0))\n",
        "    env.seed(0) # seed environment for reproducability\n",
        "    random.seed(0)\n",
        "\n",
        "    episode_returns = [] # List to store history of episode returns.\n",
        "    evaluator_episode_returns = [] # List to store history of evaluator returns.\n",
        "    timesteps = 0\n",
        "    for episode in range(num_episodes):\n",
        "\n",
        "        # Reset environment.\n",
        "        obs = env.reset()\n",
        "        episode_return = 0\n",
        "        done = False\n",
        "\n",
        "        while not done:\n",
        "\n",
        "            # Agent select action.\n",
        "            action, agent_actor_state = agent_select_action_func(\n",
        "                                            next(rng),\n",
        "                                            agent_params,\n",
        "                                            agent_actor_state,\n",
        "                                            np.array(obs)\n",
        "                                        )\n",
        "\n",
        "            # Step environment.\n",
        "            next_obs, reward, done, _ = env.step(int(action))\n",
        "\n",
        "            # Pack into transition.\n",
        "            transition = Transition(obs, action, reward, next_obs, done)\n",
        "\n",
        "            # Add transition to memory.\n",
        "            if agent_memory: # check if agent has memory\n",
        "              agent_memory.push(transition)\n",
        "\n",
        "            # Add reward to episode return.\n",
        "            episode_return += reward\n",
        "\n",
        "            # Set obs to next obs before next environment step. CRITICAL!!!\n",
        "            obs = next_obs\n",
        "\n",
        "            # Increment timestep counter\n",
        "            timesteps += 1\n",
        "\n",
        "            # Maybe learn every timestep\n",
        "            if train_every_timestep and (timesteps % 4 == 0) and agent_memory and agent_memory.is_ready(): # Make sure memory is ready\n",
        "                # First sample memory and then pass the result to the learn function\n",
        "                memory = agent_memory.sample()\n",
        "                agent_params, agent_learner_state = agent_learn_func(\n",
        "                                                        next(rng),\n",
        "                                                        agent_params,\n",
        "                                                        agent_learner_state,\n",
        "                                                        memory\n",
        "                                                    )\n",
        "\n",
        "        episode_returns.append(episode_return)\n",
        "\n",
        "        # At the end of every episode we do a learn step.\n",
        "        if agent_memory and agent_memory.is_ready(): # Make sure memory is ready\n",
        "\n",
        "            for _ in range(learn_steps_per_episode):\n",
        "                # First sample memory and then pass the result to the learn function\n",
        "                memory = agent_memory.sample()\n",
        "                agent_params, agent_learner_state = agent_learn_func(\n",
        "                                                        next(rng),\n",
        "                                                        agent_params,\n",
        "                                                        agent_learner_state,\n",
        "                                                        memory\n",
        "                                                    )\n",
        "\n",
        "        if (episode % evaluator_period) == 0: # Do evaluation\n",
        "\n",
        "            evaluator_episode_return = 0\n",
        "            for eval_episode in range(evaluation_episodes):\n",
        "                obs = eval_env.reset()\n",
        "                done = False\n",
        "                while not done:\n",
        "                    action, _ = agent_select_action_func(\n",
        "                                    next(rng),\n",
        "                                    agent_params,\n",
        "                                    agent_actor_state,\n",
        "                                    np.array(obs),\n",
        "                                    evaluation=True\n",
        "                                )\n",
        "\n",
        "                    obs, reward, done, _ = eval_env.step(int(action))\n",
        "\n",
        "                    evaluator_episode_return += reward\n",
        "\n",
        "            evaluator_episode_return /= evaluation_episodes\n",
        "\n",
        "            evaluator_episode_returns.append(evaluator_episode_return)\n",
        "\n",
        "            logs = [\n",
        "                    f\"Episode: {episode}\",\n",
        "                    f\"Episode Return: {episode_return}\",\n",
        "                    f\"Average Episode Return: {np.mean(episode_returns[-20:])}\",\n",
        "                    f\"Evaluator Episode Return: {evaluator_episode_return}\"\n",
        "            ]\n",
        "\n",
        "            print(*logs, sep=\"\\t\") # Print the logs\n",
        "\n",
        "    env.close()\n",
        "    eval_env.close()\n",
        "\n",
        "    return episode_returns, evaluator_episode_returns"
      ]
    },
    {
      "cell_type": "markdown",
      "metadata": {
        "id": "CTPlIq4oDBPY"
      },
      "source": [
        "##2. Случайный поиск политики (RPS)\n",
        "В разделе 1 мы использовали фиксированный набор параметров для нашей политики. То есть мы не изучали параметры $\\pi$ $\\theta$, мы просто сохранили их фиксированными ( `params = [1,-2,2,-1]`).\n",
        "\n",
        "Теперь мы реализуем случайный поиск политики (RPS), который представляет собой алгоритм, который случайным образом пробует различные параметры политики и отслеживает лучшие параметры, найденные на данный момент. Мы скажем, что параметры политики $\\theta_A$ лучше параметров $\\theta_B$, если средний возврат эпизода, достигнутый за последние 20 эпизодов политикой с параметрами $\\theta_A$, больше, чем у политики с параметрами $\\theta_B$.\n",
        "\n",
        "Чтобы отслеживать «текущие» параметры, а также «лучшие» параметры, мы будем использовать [NamedTuple](https://www.geeksforgeeks.org/namedtuple-in-python/)."
      ]
    },
    {
      "cell_type": "code",
      "execution_count": 12,
      "metadata": {
        "id": "1DcaC-PQRjM1",
        "colab": {
          "base_uri": "https://localhost:8080/"
        },
        "outputId": "74ac8248-76c1-4797-df61-57c7e410641c"
      },
      "outputs": [
        {
          "output_type": "stream",
          "name": "stdout",
          "text": [
            "Best params: [0. 0. 0. 0.]\n",
            "Current params: [-1. -1. -1. -1.]\n"
          ]
        }
      ],
      "source": [
        "# Parameter container for Random Policy Search\n",
        "RandomPolicySearchParams = collections.namedtuple(\"RandomPolicySearchParams\", [\"current\", \"best\"])\n",
        "\n",
        "# TEST: store two different sets of parameters\n",
        "current_params = np.ones(obs_shape) * -1\n",
        "best_params = np.zeros(obs_shape)\n",
        "rps_params = RandomPolicySearchParams(current_params, best_params)\n",
        "\n",
        "# How to access the best or current params.\n",
        "print(f\"Best params: {rps_params.best}\")\n",
        "print(f\"Current params: {rps_params.current}\")"
      ]
    },
    {
      "cell_type": "markdown",
      "metadata": {
        "id": "v91pDDzGex9a"
      },
      "source": [
        "Далее мы реализуем следующее:\n",
        "- **Функция выбора действия RPS** - определяет, как мы выбираем действия с учетом набора параметров.\n",
        "- **Модуль памяти RPS** - определяет, какой опыт хранить из взаимодействий со средой.\n",
        "- **Функция обучения RPS** - определяет, как мы обновляем и улучшаем параметры нашей политики."
      ]
    },
    {
      "cell_type": "markdown",
      "metadata": {
        "id": "0tExceGeGNYH"
      },
      "source": [
        "### Функция выбора действия RPS\n",
        "Давайте реализуем функцию с именем `random_policy_search_choose_action`, которую мы можем передать в цикл обучения. Функция должна принимать несколько аргументов, чтобы она могла хорошо взаимодействовать с нашим обобщенным циклом обучения, но вам нужно будет использовать только три из них - `params`, `obs` и `evaluation`.\n",
        "\n",
        "- `params` - это экземпляр `RandomPolicySearchParams` с \"current\" и \"best\".\n",
        "- `obs` - это последнее наблюдение из среды.\n",
        "- `evaluation` - это логическое значение, которое указывает, следует ли нам использовать параметры \"current\" или \"best\". Когда `evaluation==True`, мы должны использовать параметры \"best\", в противном случае мы должны использовать параметры \"current\".\n",
        "\n",
        "**Упражнение 3:** Реализуйте функцию `random_policy_search_choose_action`, как описано выше. Вам следует использовать метод `linear_policy`, который мы определили ранее. Вам также понадобится `jax.lax.select()` для условного возврата \"лучшего\" действия или \"текущего\" действия."
      ]
    },
    {
      "cell_type": "code",
      "execution_count": 13,
      "metadata": {
        "id": "1kmwT35JRjM1"
      },
      "outputs": [],
      "source": [
        "def random_policy_search_choose_action(\n",
        "    key,\n",
        "    params,\n",
        "    actor_state,\n",
        "    obs,\n",
        "    evaluation=False\n",
        "):\n",
        "  \"\"\"Random policy search select action method.\n",
        "\n",
        "  Args:\n",
        "    key: a random number (seed). Not used in this function.\n",
        "    params: the agent's parameters. In this case an instance of `RandomPolicySearchParams`\n",
        "    actor_state: some extra information about the actor. Not used in this function.\n",
        "    obs: the latest observation.\n",
        "    evaluation: a boolean indicating whether to use the best \"parameters\" or the \"current\" ones.\n",
        "\n",
        "  Returns:\n",
        "    The chosen action and the updated actor_state. In this function the actor_state is not updated.\n",
        "  \"\"\"\n",
        "\n",
        "  # YOUR CODE\n",
        "\n",
        "  best_action = linear_policy(params.best, obs)\n",
        "\n",
        "  current_action = linear_policy(params.current, obs)\n",
        "\n",
        "  action = jax.lax.select(\n",
        "      evaluation,\n",
        "      best_action,\n",
        "      current_action\n",
        "  )\n",
        "\n",
        "  # END YOUR CODE\n",
        "\n",
        "  return action, actor_state"
      ]
    },
    {
      "cell_type": "code",
      "execution_count": 14,
      "metadata": {
        "id": "YE4xoAgyI3kG",
        "colab": {
          "base_uri": "https://localhost:8080/"
        },
        "outputId": "fcf8a4cc-107d-4c9a-f2bd-162414991115"
      },
      "outputs": [
        {
          "output_type": "stream",
          "name": "stdout",
          "text": [
            "Your function looks correct.\n"
          ]
        }
      ],
      "source": [
        "# @title Проверка упр 3 (run me) {display-mode: \"form\"}\n",
        "\n",
        "def check_random_policy_search_choose_action(choose_action):\n",
        "  key = None # not used\n",
        "  actor_state = None # not used\n",
        "\n",
        "  # obs\n",
        "  obs = np.ones(obs_shape)\n",
        "\n",
        "  evaluation=False\n",
        "  current_params = np.ones(obs_shape) * -1\n",
        "  best_params = np.ones(obs_shape)\n",
        "  rps_params = RandomPolicySearchParams(current_params, best_params)\n",
        "  action, actor_state = choose_action(key,rps_params,actor_state,obs,evaluation)\n",
        "  if action != 0:\n",
        "    return False\n",
        "\n",
        "  evaluation=True\n",
        "  current_params = np.ones(obs_shape) * -1\n",
        "  best_params = np.ones(obs_shape)\n",
        "  rps_params = RandomPolicySearchParams(current_params, best_params)\n",
        "  action, actor_state = choose_action(key,rps_params,actor_state,obs,evaluation)\n",
        "  if action != 1:\n",
        "    return False\n",
        "\n",
        "  return True\n",
        "\n",
        "try:\n",
        "  if check_random_policy_search_choose_action(random_policy_search_choose_action):\n",
        "    print(\"Your function looks correct.\")\n",
        "  else:\n",
        "    print(\"Your function looks incorrect.\")\n",
        "except Exception as e:\n",
        "    print(\"An Error Occured: {}\".format(e))"
      ]
    },
    {
      "cell_type": "markdown",
      "metadata": {
        "id": "6zu51ep7Sh0M"
      },
      "source": [
        "### Память агента RPS\n",
        "\n",
        "Для алгоритма поиска случайной политики нам нужно будет отслеживать средний возврат эпизода для последних 50 эпизодов. Помните, что мы сказали, что «текущие» параметры будут считаться «лучшими» параметрами, если средний возврат эпизода при использовании этих параметров больше предыдущего лучшего среднего возврата эпизода.\n",
        "\n",
        "Мы будем использовать интерфейс памяти общего назначения, который довольно прост. Модуль памяти должен иметь три метода. Первый — это функция `memory.push(<transition>)`, которая добавляет некоторую информацию о последнем переходе среды в память. Второй — это функция `memory.is_ready()`, которая проверяет, готова ли память к обучению. Наконец, функция `memory.sample()` должна возвращать последний набор воспоминаний, которые можно передать в `agent_learn_func`.\n",
        "\n",
        "#### Память среднего возврата эпизода\n",
        "Мы создали для вас простой модуль памяти агента. Он хранит `epsisode_returns` последних 20 эпизодов. Прочитайте нашу реализацию ниже и посмотрите, сможете ли вы ее понять. Метод `memory.sample()` возвращает средний возврат эпизода за последние 20 эпизодов."
      ]
    },
    {
      "cell_type": "code",
      "execution_count": 15,
      "metadata": {
        "id": "YVkTBIK5RjM1"
      },
      "outputs": [],
      "source": [
        "class AverageEpisodeReturnBuffer:\n",
        "\n",
        "    def __init__(self, num_episodes_to_store=50):\n",
        "        \"\"\"\n",
        "        This class implements an agent memory that stores the average episode\n",
        "        return over the last 50 episodes.\n",
        "        \"\"\"\n",
        "        self.num_episodes_to_store = num_episodes_to_store\n",
        "        self.episode_return_buffer = []\n",
        "        self.current_episode_return = 0\n",
        "\n",
        "    def push(self, transition):\n",
        "        self.current_episode_return += transition.reward\n",
        "\n",
        "        if transition.done: # If the episode is done\n",
        "            # Add episode return to buffer\n",
        "            self.episode_return_buffer.append(self.current_episode_return)\n",
        "\n",
        "            # Reset episode return\n",
        "            self.current_episode_return = 0\n",
        "\n",
        "\n",
        "    def is_ready(self):\n",
        "        return len(self.episode_return_buffer) == self.num_episodes_to_store\n",
        "\n",
        "    def sample(self):\n",
        "        average_episode_return = np.mean(self.episode_return_buffer)\n",
        "\n",
        "        # Clear episode return buffer\n",
        "        self.episode_return_buffer = []\n",
        "\n",
        "        return average_episode_return"
      ]
    },
    {
      "cell_type": "markdown",
      "metadata": {
        "id": "0oXBsSa2KjWE"
      },
      "source": [
        "### Функция обучения RPS\n",
        "Наконец, нам нужно реализовать функцию `random_policy_search_learn` для нашего алгоритма поиска случайной политики. Функция обучения довольно проста. Все, что нам нужно сделать, это проверить, лучше ли текущие параметры, чем лучшие параметры. Если они лучше, то установите лучшие параметры в качестве текущих параметров и случайным образом сгенерируйте новый набор текущих параметров.\n",
        "\n",
        "**Упражнение 4:** Напишите функцию для случайной генерации новых весов с использованием JAX. Веса должны быть выбраны из интервала `[-2,2]`.\n",
        "\n",
        "**Полезные функции:**\n",
        "*   `jax.random.uniform` ([docs](https://jax.readthedocs.io/en/latest/_autosummary/jax.random.uniform.html#jax.random.uniform))\n",
        "\n"
      ]
    },
    {
      "cell_type": "code",
      "execution_count": 16,
      "metadata": {
        "id": "8V2yFM2XMjGW"
      },
      "outputs": [],
      "source": [
        "def get_new_random_weights(random_key, old_weights, minval=-2.0, maxval=2.0):\n",
        "    new_weights_shape = old_weights.shape # you will need to use these values\n",
        "    new_weights_dtype = old_weights.dtype # you will need to use these values\n",
        "\n",
        "    # YOUR CODE\n",
        "\n",
        "    new_params = jax.random.uniform(random_key, new_weights_shape, minval=minval, maxval=maxval).astype(new_weights_dtype)\n",
        "\n",
        "    # END YOUR CODE\n",
        "\n",
        "    return new_params"
      ]
    },
    {
      "cell_type": "code",
      "execution_count": 17,
      "metadata": {
        "id": "T8ifHTKGQlAd",
        "colab": {
          "base_uri": "https://localhost:8080/"
        },
        "outputId": "e74ed8ec-d573-4bd8-8d21-21e495e8a5fb"
      },
      "outputs": [
        {
          "output_type": "stream",
          "name": "stdout",
          "text": [
            "Function is correct!\n"
          ]
        }
      ],
      "source": [
        "# @title Проверка упр 4 (run me) {display-mode: \"form\"}\n",
        "\n",
        "def check_get_new_random_weights(get_new_random_weights):\n",
        "  old_weights = np.ones(obs_shape, \"float32\")\n",
        "  random_key = jax.random.PRNGKey(42)\n",
        "\n",
        "  # Case 1\n",
        "  new_weights = get_new_random_weights(random_key, old_weights, minval=-2.0, maxval=2.0)\n",
        "\n",
        "  if jnp.array_equal(new_weights, jnp.array([ 0.29657745,1.4265499, -1.7621555, -1.7505779 ])):\n",
        "    print(\"Function is correct!\")\n",
        "  else:\n",
        "    print(\"Something is wrong.\")\n",
        "\n",
        "try:\n",
        "  check_get_new_random_weights(get_new_random_weights)\n",
        "except Exception as e:\n",
        "    print(\"An Error Occured: {}\".format(e))"
      ]
    },
    {
      "cell_type": "markdown",
      "metadata": {
        "id": "2Djxc9j-LzkM"
      },
      "source": [
        "Наша функция обучения получает память в форме среднего возврата эпизода из `AverageEpisodeReturnMemory`, которую мы реализовали ранее. Мы можем использовать это для сравнения текущих параметров с лучшими параметрами. Но нам также нужно будет отслеживать лучший средний возврат эпизода для функции обучения. Для этого мы можем использовать аргумент `learn_state`, который передается в `agent_learn_func` в нашем цикле обучения. Как и в случае с `RandomPolicySearchParams`, мы будем использовать NamedTuple для хранения `best_average_episode_return` в `learn_state`."
      ]
    },
    {
      "cell_type": "code",
      "execution_count": 18,
      "metadata": {
        "id": "4cSH4uYmRjM2",
        "colab": {
          "base_uri": "https://localhost:8080/"
        },
        "outputId": "501410d1-481d-409d-9f40-178d1aeaee1e"
      },
      "outputs": [
        {
          "output_type": "stream",
          "name": "stdout",
          "text": [
            "Initial best average episode return: -inf\n"
          ]
        }
      ],
      "source": [
        "# A NamedTuple to store the best average episode return so far\n",
        "RandomPolicyLearnState = collections.namedtuple(\n",
        "  \"RandomPolicyLearnState\",\n",
        "  [\"best_average_episode_return\"]\n",
        ")\n",
        "\n",
        "# Test\n",
        "initial_learn_state = RandomPolicyLearnState(best_average_episode_return=-float(\"inf\"))\n",
        "print(\"Initial best average episode return:\", initial_learn_state.best_average_episode_return)"
      ]
    },
    {
      "cell_type": "markdown",
      "metadata": {
        "id": "PxZXdP8bOu6b"
      },
      "source": [
        "Теперь у нас есть все необходимое для реализации функции `random_policy_search_learn`.\n",
        "\n",
        "**Упражнение 5:** Реализуйте функцию `random_policy_search_learn`. Функция должна проверять, лучше ли «текущие» параметры, чем «лучшие» параметры, сравнивая `current_average_episode_return` с `best_average_episode_return`. Функция также должна обновлять `learn_state`."
      ]
    },
    {
      "cell_type": "code",
      "execution_count": 19,
      "metadata": {
        "id": "Te_Q3qzmZcN_"
      },
      "outputs": [],
      "source": [
        "def random_policy_search_learn(key, params, learn_state, memory):\n",
        "    best_params = params.best\n",
        "    current_params = params.current\n",
        "\n",
        "    current_average_episode_return = memory # the memory contains the average episode return\n",
        "    best_average_episode_return = learn_state.best_average_episode_return\n",
        "\n",
        "\n",
        "    # YOUR CODE\n",
        "\n",
        "    best_params = jax.lax.select(\n",
        "        current_average_episode_return > best_average_episode_return,\n",
        "        current_params,\n",
        "        best_params\n",
        "    )\n",
        "\n",
        "    best_average_episode_return = jax.lax.select(\n",
        "        current_average_episode_return > best_average_episode_return,\n",
        "        current_average_episode_return,\n",
        "        best_average_episode_return\n",
        "    )\n",
        "\n",
        "    # END YOUR CODE\n",
        "\n",
        "    # Generate new random parameters\n",
        "    new_params = get_new_random_weights(key, current_params)\n",
        "\n",
        "    # Bundle weights in RandomPolicySearchParams NamedTuple\n",
        "    params = RandomPolicySearchParams(current=new_params, best=best_params)\n",
        "\n",
        "    return params, RandomPolicyLearnState(best_average_episode_return)"
      ]
    },
    {
      "cell_type": "code",
      "execution_count": 20,
      "metadata": {
        "id": "CXHV4k2iBLBF",
        "colab": {
          "base_uri": "https://localhost:8080/"
        },
        "outputId": "09361571-2c44-4f3b-cfde-e07fe7fc8c53"
      },
      "outputs": [
        {
          "output_type": "stream",
          "name": "stdout",
          "text": [
            "Your function looks correct.\n"
          ]
        }
      ],
      "source": [
        "#@title Проверка упр 5 {display-mode: \"form\"}\n",
        "\n",
        "params = RandomPolicySearchParams(np.ones(obs_shape, \"float32\"), np.ones(obs_shape, \"float32\") * -1)\n",
        "learn_state = RandomPolicyLearnState(10)\n",
        "memory = 11\n",
        "key = jax.random.PRNGKey(42)\n",
        "\n",
        "try:\n",
        "  new_params, new_learn_state = random_policy_search_learn(key, params, learn_state, memory)\n",
        "\n",
        "  if not jnp.array_equal(new_params.current, jnp.array([ 0.29657745,  1.4265499 , -1.7621555 , -1.7505779 ])):\n",
        "    print(\"Your function is incorrect.\")\n",
        "\n",
        "  elif not jnp.array_equal(new_params.best, jnp.array([1., 1., 1., 1.])):\n",
        "    print(\"Your function is incorrect.\")\n",
        "\n",
        "  elif new_learn_state.best_average_episode_return != 11:\n",
        "    print(\"Your function is incorrect.\")\n",
        "\n",
        "  else:\n",
        "    print(\"Your function looks correct.\")\n",
        "except Exception as e:\n",
        "    print(\"An Error Occured: {}\".format(e))"
      ]
    },
    {
      "cell_type": "markdown",
      "metadata": {
        "id": "5Ol_AxnMBdgP"
      },
      "source": [
        "### Цикл обучения RPS\n",
        "Теперь мы можем собрать все вместе, передав модуль `memory`, функцию `learn` и функцию `choose_action` в цикл обучения. Чтобы ускорить наш алгоритм, мы будем использовать `jax.jit` в функции `learn` и функции `choose_action`."
      ]
    },
    {
      "cell_type": "code",
      "execution_count": 21,
      "metadata": {
        "id": "Qx57tf7vRjM3",
        "colab": {
          "base_uri": "https://localhost:8080/",
          "height": 680
        },
        "outputId": "256c02c2-72ff-40d1-e00f-abd59c28b96d"
      },
      "outputs": [
        {
          "output_type": "stream",
          "name": "stdout",
          "text": [
            "Starting training. This may take up to 5 minutes to complete.\n",
            "Episode: 0\tEpisode Return: 80.0\tAverage Episode Return: 80.0\tEvaluator Episode Return: 144.75\n",
            "Episode: 100\tEpisode Return: 45.0\tAverage Episode Return: 10.95\tEvaluator Episode Return: 150.5\n",
            "Episode: 200\tEpisode Return: 26.0\tAverage Episode Return: 10.3\tEvaluator Episode Return: 126.0\n",
            "Episode: 300\tEpisode Return: 9.0\tAverage Episode Return: 9.35\tEvaluator Episode Return: 161.0\n",
            "Episode: 400\tEpisode Return: 58.0\tAverage Episode Return: 11.6\tEvaluator Episode Return: 168.0\n",
            "Episode: 500\tEpisode Return: 48.0\tAverage Episode Return: 11.55\tEvaluator Episode Return: 135.125\n",
            "Episode: 600\tEpisode Return: 80.0\tAverage Episode Return: 113.55\tEvaluator Episode Return: 145.5\n",
            "Episode: 700\tEpisode Return: 9.0\tAverage Episode Return: 15.1\tEvaluator Episode Return: 137.75\n",
            "Episode: 800\tEpisode Return: 9.0\tAverage Episode Return: 17.9\tEvaluator Episode Return: 128.25\n",
            "Episode: 900\tEpisode Return: 124.0\tAverage Episode Return: 196.2\tEvaluator Episode Return: 200.0\n",
            "Episode: 1000\tEpisode Return: 35.0\tAverage Episode Return: 10.5\tEvaluator Episode Return: 200.0\n"
          ]
        },
        {
          "output_type": "display_data",
          "data": {
            "text/plain": [
              "<Figure size 640x480 with 1 Axes>"
            ],
            "image/png": "[encoded data removed]"
          },
          "metadata": {}
        }
      ],
      "source": [
        "# JIT the learn and choose action functions\n",
        "random_policy_search_learn_jit = jax.jit(random_policy_search_learn)\n",
        "random_policy_search_choose_action_jit = jax.jit(random_policy_search_choose_action)\n",
        "\n",
        "# Initialise the parameters\n",
        "initial_weights = np.ones(obs_shape, \"float32\")\n",
        "initial_params = RandomPolicySearchParams(initial_weights, initial_weights)\n",
        "\n",
        "# Initialise the learn state\n",
        "initial_learn_state = RandomPolicyLearnState(best_average_episode_return=-float(\"inf\"))\n",
        "\n",
        "# Initialise memory\n",
        "memory = AverageEpisodeReturnBuffer(num_episodes_to_store=50)\n",
        "\n",
        "# Run the training loop\n",
        "print(\"Starting training. This may take up to 5 minutes to complete.\")\n",
        "chex.clear_trace_counter()\n",
        "episode_return, evaluator_episode_returns = run_training_loop(\n",
        "                                        env_name,\n",
        "                                        initial_params,\n",
        "                                        random_policy_search_choose_action_jit,\n",
        "                                        None, # no actor state\n",
        "                                        random_policy_search_learn_jit,\n",
        "                                        initial_learn_state,\n",
        "                                        memory,\n",
        "                                        num_episodes=1001,\n",
        "                                        video_subdir=\"rps\"\n",
        "                                    )\n",
        "\n",
        "# Plot graph of evaluator episode returns\n",
        "plt.plot(np.linspace(0, 1000, len(evaluator_episode_returns)), evaluator_episode_returns)\n",
        "plt.title(\"Random Policy Search\")\n",
        "plt.xlabel(\"Episodes\")\n",
        "plt.ylabel(\"Episode Return\")\n",
        "plt.show()"
      ]
    },
    {
      "cell_type": "markdown",
      "metadata": {
        "id": "TG10FG6uS05A"
      },
      "source": [
        "Надеюсь, вы нашли набор оптимальных параметров на CartPole (возврат эпизода достигает `200`). В ячейке ниже вы можете посмотреть несколько видеороликов агента, выполняющего задание."
      ]
    },
    {
      "cell_type": "code",
      "execution_count": 22,
      "metadata": {
        "id": "KgayDJ7KWC4C",
        "colab": {
          "base_uri": "https://localhost:8080/",
          "height": 288
        },
        "outputId": "e5475037-032c-49f9-81ec-6230f8a09e6d"
      },
      "outputs": [
        {
          "output_type": "execute_result",
          "data": {
            "text/plain": [
              "<IPython.core.display.HTML object>"
            ],
            "text/html": [
              "\n",
              "<video width=400 controls>\n",
              "      <source src=\"data:video/mp4;base64,AAAAIGZ0eXBpc29tAAACAGlzb21pc28yYXZjMW1wNDEAAAAIZnJlZQAAIr5tZGF0AAACrgYF//+q3EXpvebZSLeWLNgg2SPu73gyNjQgLSBjb3JlIDE2MyByMzA2MCA1ZGI2YWE2IC0gSC4yNjQvTVBFRy00IEFWQyBjb2RlYyAtIENvcHlsZWZ0IDIwMDMtMjAyMSAtIGh0dHA6Ly93d3cudmlkZW9sYW4ub3JnL3gyNjQuaHRtbCAtIG9wdGlvbnM6IGNhYmFjPTEgcmVmPTMgZGVibG9jaz0xOjA6MCBhbmFseXNlPTB4MzoweDExMyBtZT1oZXggc3VibWU9NyBwc3k9MSBwc3lfcmQ9MS4wMDowLjAwIG1peGVkX3JlZj0xIG1lX3JhbmdlPTE2IGNocm9tYV9tZT0xIHRyZWxsaXM9MSA4eDhkY3Q9MSBjcW09MCBkZWFkem9uZT0yMSwxMSBmYXN0X3Bza2lwPTEgY2hyb21hX3FwX29mZnNldD0tMiB0aHJlYWRzPTMgbG9va2FoZWFkX3RocmVhZHM9MSBzbGljZWRfdGhyZWFkcz0wIG5yPTAgZGVjaW1hdGU9MSBpbnRlcmxhY2VkPTAgYmx1cmF5X2NvbXBhdD0wIGNvbnN0cmFpbmVkX2ludHJhPTAgYmZyYW1lcz0zIGJfcHlyYW1pZD0yIGJfYWRhcHQ9MSBiX2JpYXM9MCBkaXJlY3Q9MSB3ZWlnaHRiPTEgb3Blbl9nb3A9MCB3ZWlnaHRwPTIga2V5aW50PTI1MCBrZXlpbnRfbWluPTI1IHNjZW5lY3V0PTQwIGludHJhX3JlZnJlc2g9MCByY19sb29rYWhlYWQ9NDAgcmM9Y3JmIG1idHJlZT0xIGNyZj0yMy4wIHFjb21wPTAuNjAgcXBtaW49MCBxcG1heD02OSBxcHN0ZXA9NCBpcF9yYXRpbz0xLjQwIGFxPTE6MS4wMACAAAABEWWIhAAv//72rvzLK0cLlS4dWXuzUfLoSXL9iDB9aAAAAwAAAwAAJuKiZ0WFMeJsgAAALmAIWElDyDzETFWKgTVsvlikQEAAdecwIM+vWUji6mJcm8YnRhv6ELcI/Hj8x+cMVVlbGA6KxATkDppogQE8QJQp6wOh4qnF1zz+eIxCw6HH9mdbJuYpaeXBbtgAcCGc2SK3Okb/VO5vY+fJxy8KiHHZZP6P+2zRu8wbxowPPxSg/v5XUkYdxJDoaEr3/1Woc5JqzMUT4abp6CYRw6uOlDMNTWLYHm/AysrRA+DC179yoYAAaXlhMrSjnJKsEsAWKUqS3sS8fWIhaIdCT+9+kguQCx50wAAAAwAAAwAt4QAAAchBmiFsQz/+nhAAAE2+LHWWUkB87lf/RgIP4owyEphbvRnM/QDO5/DosH1iOBCWdXY48DQxVv2tVMC+PK6SZ9ov9WX30b251SWgQzgiHVyXGMnQpsZL2qIj2in3Dv5LhjXjk0GLolBf00+GM/XWqrhYwEpcVt8Ji4+3VEn3Zy5BH1GuCnHLaKsyjN6tcWoFwXiqHXAli0hBW2+GUe9Nef4chEDMfodfwh/A45NWrPKHZB8LBnKMscgtHJjDpMVxaE9ZHtvMMglfBQwdvkPFz6rtRqeHBNEKLKB/6A6oXSlXNltl+v3dT+Q7mf/hxVISkvfOFgqXPYF62d3YkOv7EJ0k+9qwXETLTN5+IU+Qz4Im6qzUd2zTfocq8d7Rk9kCtPIMFAh+xpkaWOdE23bU6tYueKz0t/1xq+sLD0XDW5frS1qN1TWWuucxmUDRrXMao9Nh4WX6j8Y45C3GyuLBmgSgP0GIxQK29ZDLJqKkbVYrtlU9u+YaXXNiVhdlPi7irwi3NNKOdA4f0bc7H/wGs3jQtzaLGRY5al3eW8gAJs+DAtBSOlmy5RM7e69kLEgNviKjX/h4QiAiczTvbYvzCBiPHIW2wsKog4AAAABXQZpFPCGTKYQz//6eEAAARUUEy0zoA6UOgdpbpzUplTwAclrfG8CQFsxScajja5TD8BtjIQnbbzNWmvwADXzc0v7sYEJGzzBbHcccr04AtjNThhAB/PixAAAAHkGeY2pTwj8AABa1KzdrWl64ooPCMLA53NqjwwWcTgAAAC8BnoJ0R/8AACOr+Fk1ZpdgglvOYSq6A4PAx7deTwFYHTwYQusrAuHAAuPkO6BywQAAAA4BnoRqR/8AAAMAAAMBqQAAAHhBmolJqEFomUwIZ//+nhAAAEVUqT7j/0Co1YLrC49m/MwgIhgAnbfnTnOoP3l3UN+86KaLv7nqt575LmgSO2WKJdgHrWkLN4Y9kHcLnq/wgYWVXX3r4ncsGtdkb1Ul21s54abkOp6pZuGiLy9t2S2LlKg/ErLNv1UAAAAvQZ6nRREsI/8AABa8Q8y7RH7SALrGJV/MGHi+Gz2CjNb4OIIJF2xBequuVH29ickAAAAeAZ7GdEf/AAANhd0za7FLOghr1uzovMGONbRW7hAQAAAAGQGeyGpH/wAAI78EJxLJzOdAEl+qSEGrwf4AAAA7QZrNSahBbJlMCGf//p4QAAAaf1FYHhat1n5Va7GZhbWeG1l/3v6lZO7tgAN8eRpgZLZW2bGRYstULMEAAAAhQZ7rRRUsI/8AAAMDOS5cWUa1rwFh2etqojQ1AmYMiduAAAAADgGfCnRH/wAAAwAAAwGpAAAAHAGfDGpH/wAADYSdqkv4m46mHBCWakinArLyICEAAAAXQZsRSahBbJlMCGf//p4QAAADAAADAz8AAAAQQZ8vRRUsI/8AAAMAAAMBBwAAAA4Bn050R/8AAAMAAAMBqQAAAA4Bn1BqR/8AAAMAAAMBqQAAAFZBm1VJqEFsmUwIZ//+nhAAAAn/s/jwlyXpLryQkogb1xIAutTAJj6MIUYrWXai0Fmhee4LQRQrDD2BG5goL9cwKxOpSe1gaXQM89vLMkZkjLClTUWEwQAAABxBn3NFFSwj/wAAAwM4Uwqw4X50S2Aup+uaMaduAAAAGgGfknRH/wAAAwHmsbCUqUTuDbgSXwY9FvwYAAAAHwGflGpH/wAABSCB12nM2xGZHBQU6bd/8ZZIY/JbbMEAAAA9QZuZSahBbJlMCGf//p4QAABFRQT3LnAKAfQb6bV84qxERh1ouohJ+ldG7+34zs/C0fWw+o5UaMMtELHJwAAAABtBn7dFFSwj/wAAFrxDzbcVzKyZST4Ir+YF/zcAAAAOAZ/WdEf/AAADAAADAakAAAAYAZ/Yakf/AAAjvwQnEslpmrhWUyT4n7k7AAAAZUGb3UmoQWyZTAhn//6eEAAAGdDrMKHsKAEsbTjSFgOszozohWR/cLkgK/YYDweSeYjx+QweJEZ2i/BqZYZjGIAvKhfTlfCWwaHKmnJ7FeZTJ8Yca/iVui8j4ePvUphT3yY9hDDLAAAAHkGf+0UVLCP/AAAILAy0yhdQd+UFZShpaooIlUkkBAAAACEBnhp0R/8AACPAuN/BXpFZYoJIiFZQRfgk7r+555X87bkAAAAOAZ4cakf/AAADAAADAakAAABrQZoBSahBbJlMCGf//p4QAAAJ7wV8VHYMPTfT8GgABO2/QSGmry3rO7eId2iD7SbsgsAxW0TqB8I64boqMaVmCT3tU9WDTATtmzQemAbEFGnMLRwYZI/Q9ch9sVcs8MkNeLk+02BitCUa5vQAAAAfQZ4/RRUsI/8AAAMDOTB5tw8JjujjtiDGg+NcD4v8GAAAAA4Bnl50R/8AAAMAAAMBqQAAABsBnkBqR/8AAAUfMJdxUvTkfjTIQOQuUjSfAgIAAABLQZpFSahBbJlMCGf//p4QAAAJ/7P3ayfEDwFUW0I4oK4EtEglMN/KYeQ/QBzcrEZD5EyoYaJZ/DJGCVpmCNRvoUfkXxYxH4NUC33BAAAAI0GeY0UVLCP/AAADAzm7Z+xEQSgsA+YcY3qO7Mavw0Rd3eDAAAAALAGegnRH/wAABR/L7LZM6wK/Xl/SGSwibETPRRAAtyUghLxWDPB8VywcV+2zAAAAGwGehGpH/wAABR8wlnuJLTNk/0iWsGQ4uR42zQAAAF5BmolJqEFsmUwIZ//+nhAAAEVFKLQCuDxwTLvgDhaokPrtpbd38lMjlPP2j98o8aFl5a/q8KmXlm1UkIlaW+wj7NBmfBWAfQBAWGoQtYCSuPQ4Fj7h6VDr1sr8oCIzAAAAKEGep0UVLCP/AAAWvEPNseEOSBBx1fc6vLfRnU3yLDG63F9QBVT6m2cAAAAcAZ7GdEf/AAADAduxsRY2uIr6JNt4HnlmS0g5IAAAABcBnshqR/8AACO/BCcSyWmauFZrKWWGNAAAADNBms1JqEFsmUwIZ//+nhAAAEVFBRkc8cCZEtWfu/h9di/XTxxoG7yACjhxK0peS9XFNmEAAAAaQZ7rRRUsI/8AABa1KzdrWl7Iza+NnnIsgYAAAAAWAZ8KdEf/AAAjwxdoqaVT1Pv89Ygg4AAAAA4BnwxqR/8AAAMAAAMBqQAAABdBmxFJqEFsmUwIZ//+nhAAAAMAAAMDPwAAABBBny9FFSwj/wAAAwAAAwEHAAAADgGfTnRH/wAAAwAAAwGpAAAADgGfUGpH/wAAAwAAAwGpAAAAF0GbVUmoQWyZTAhn//6eEAAAAwAAAwM/AAAAJUGfc0UVLCP/AAADAzdw+fSofFW0h7QO2YqbJUO/KZZuzBdm2YAAAAAaAZ+SdEf/AAAFH9DBzraNw1fYEVoInGZXbMAAAAAbAZ+Uakf/AAADAeZ/1Ul/E3HV9ncYh4anJjtxAAAAUUGbmUmoQWyZTAhn//6eEAAARUUINAE+FYEH8JBrtJdC2Xj9d85UpnN0PBqYDdyKB7jnGh6YfYlZbr1iMArd+4ALeKc0/VuFw4gMEdnHZc8jmgAAACRBn7dFFSwj/wAAFrUrN2tasvcUjrtbV9ZSX4/e+5L0v8gT+zEAAAAXAZ/WdEf/AAAjwxdoqaVT1PvCdsBz590AAAAeAZ/Yakf/AAADAduAEvd4lKDnkHfSkjDl/U0NzOSAAAAAF0Gb3UmoQWyZTAhn//6eEAAAAwAAAwM/AAAAIUGf+0UVLCP/AAADAyOufNERSnE++7r3joGSKCHgG7S2YAAAABoBnhp0R/8AAAT70MIYbXEem569eS0eZpYSAwAAABoBnhxqR/8AAAT5PmG3ZGdtFwnJvv7btWpJgQAAADVBmgFJqEFsmUwIZ//+nhAAAAMDs6LOJnPSHxO4kNZFPAbrlQAxliZdz/9g6xPTI/UyNl0b9gAAAB5Bnj9FFSwj/wAAAwE15Oa8L/t1a2G+EEWUbNN+9MAAAAAOAZ5edEf/AAADAAADAakAAAAbAZ5Aakf/AAADAeZ/1Ul/E3HV9ncYh4anJjtwAAAAMUGaRUmoQWyZTAhn//6eEAAARWjxRY/tMWNbzppINUgd0ngs339prsn0734hOGuuZZkAAAAhQZ5jRRUsI/8AABa8Q823FcyttkoOXV5HlKjc7x99WnJAAAAAGwGegnRH/wAAAwHmsX/0lGxTuxVavMY2ZIVXgwAAABcBnoRqR/8AACO/BCcSyWmauFZVFuaCXwAAADZBmolJqEFsmUwIZ//+nhAAAEVR9fVwvemLGMnMWCGQD/ePQAkDgw40vKQ9spGRg1rD+II31l0AAAAjQZ6nRRUsI/8AABa8Q823FcyssQIDX/AqiwG1uZYqHJwAnJEAAAAbAZ7GdEf/AAAE+uMR+4MkjzX1SYFdavYA7SAgAAAAFwGeyGpH/wAAI78EJxLJaZq4VmspZYY0AAAAKkGazUmoQWyZTAhn//6eEAAARVH19XC96Xmx7f9iAEqJbz9fJJv+HKtj5wAAABlBnutFFSwj/wAAFrUrN2taXriilj0dpkDAAAAAGAGfCnRH/wAAI8MXaKmlU9T7x/0t0FCkgAAAAA4BnwxqR/8AAAMAAAMBqQAAABdBmxFJqEFsmUwIZ//+nhAAAAMAAAMDPwAAABBBny9FFSwj/wAAAwAAAwEHAAAADgGfTnRH/wAAAwAAAwGpAAAADgGfUGpH/wAAAwAAAwGpAAAAF0GbVUmoQWyZTAhn//6eEAAAAwAAAwM/AAAAEEGfc0UVLCP/AAADAAADAQcAAAAOAZ+SdEf/AAADAAADAakAAAAmAZ+Uakf/AAAjma2NeUKrDQAkvEyojF+pGj3l4TFHjE2dCXRfBL0AAABTQZuZSahBbJlMCGf//p4QAABFaPJAACd8/Dh+v7o3JkQiNnWqmeW6ddaUN+3SP099Gk3mh6Xig9oxSMbk8/Z2H1ZqNoxDzaMd7+90icNys2XStYQAAAAuQZ+3RRUsI/8AABa1KzeHmmZ6/W8ITDwAtbRXKofK8j6+Q5OmjW5W04gEBKRKgQAAACUBn9Z0R/8AACPDF2ipsCnTvycw7dpUL1g975EpqoAXuI+0a6SZAAAAHwGf2GpH/wAAAwHbgBMMAl3pbeYvmE8NVUllyj+uduAAAAAlQZvdSahBbJlMCGf//p4QAAAZumvkALBJpqJBn1wu1xT+fJXhlwAAABpBn/tFFSwj/wAACDFPLHoTV3MZWVVuyCiFgAAAABMBnhp0R/8AAA0uEvMlj4/q+aIXAAAAEwGeHGpH/wAABPs01bGssCk0N6EAAAAbQZoBSahBbJlMCGf//p4QAAAJqkDOa1Dp8AJeAAAAFkGeP0UVLCP/AAADAyRTCrFjdt59DegAAAATAZ5edEf/AAAE+Ft5ksfH+Sj7gQAAABEBnkBqR/8AAAMAQ341nUwwIAAAAE5BmkVJqEFsmUwIZ//+nhAAAAnx42RFr4xMs+AEyqUJibmRC4Qe5qYIWYkJeKMkBGLeytk+tOH2Dp8neVFrnwIh0TZQjxW/Gx5EHbBnw8EAAAAfQZ5jRRUsI/8AAAMDOTHNmFSNtWvX/azsdEBBNbrbgAAAABEBnoJ0R/8AAAMAQ1hyDJhgQQAAABsBnoRqR/8AAAUfNNWxkwvP68AVDV/NkEWw7cEAAABJQZqJSahBbJlMCGf//p4QAABFRQVM48AiiolYpGZ+qqSOrGND3UnetjeD/aK2VlHhNQOAjPOOq4tJSKVfJC5U+2oAqIWspDfO4QAAACNBnqdFFSwj/wAAFrxDzbcVzKxYnfsSpFMn8k8gAo6J8Gs7cQAAABABnsZ0R/8AAAMAtaFDnAdUAAAAHgGeyGpH/wAAI78EJxLJaZq4V7Goqz6+PJaToCZJgAAAADdBms1JqEFsmUwIZ//+nhAAABnfUVitYGmcHynnA00KN884DSq0tIRAG8Mw3shVAQ/2iRabAVihAAAAHEGe60UVLCP/AAADAS2BlplC6g7+xI31By17cgIAAAAbAZ8KdEf/AAAE95gxrwa4uFa3HRQe7Qat+WzAAAAADgGfDGpH/wAAAwAAAwGpAAAAGkGbEUmoQWyZTAhn//6eEAAAAwACx/Db71WxAAAAIUGfL0UVLCP/AAADAyOufNEObBOGSISHuHL/EgyoBUyICQAAABoBn050R/8AAAT70MIYbXEem569eS0eZpYSAgAAABoBn1BqR/8AAAT5PmG3ZGdtFwnJvv7btWpJgAAAAEpBm1VJqEFsmUwIZ//+nhAAAAMDs6LMIDsSAM1AA/bgHdf5stfkTjEyamxGycavI+NBwoe0XO7jdl3BU+IMSoHSJ5N7rwmoQBzDSQAAACNBn3NFFSwj/wAAAwM3cQQWFHMiUdAABBeqOOuBBe+V/ve2YAAAABoBn5J0R/8AAAUf0MHOto3DV9gRWgicZldswAAAABABn5RqR/8AAAMAtfaAygRdAAAAGkGbmUmoQWyZTAhn//6eEAAAAwFiAOiMwB6QAAAAMEGft0UVLCP/AAAWsyu1BbkcKk7w5dw0386qUQAIurC67YVObDuFrmIyS1ihz1mztwAAAB0Bn9Z0R/8AACPDF2ipqOi8RwRqUdZFS4qcICdICQAAAB0Bn9hqR/8AACO/BCcSyWmauFZTHyo7fi+tjQSSYAAAAE5Bm91JqEFsmUwIZ//+nhAAAEVSJcAMQn6It1Npxbg74Wwc68j/VD6UDPn/RyhxEYSOefbv7lLWMkWTPI0Vu/rS81p9/DULREALFEX0CWEAAAAnQZ/7RRUsI/8AABa1KzdrWv9DAa7GUEiX948ZPEovdnJXhkESJtuAAAAAFwGeGnRH/wAAI6v4W3gSnWgjiQnJEELBAAAAGwGeHGpH/wAABPs01d7biGqCSBvo8OgkcJGTkwAAACxBmgFJqEFsmUwIZ//+nhAAAAmqQM5rcFFhCQ0RB+FJ3EDP73h8LKjtxfsswAAAAB1Bnj9FFSwj/wAAAwMkUwrl69Eb9c/O06sCJPCtmAAAABsBnl50R/8AAAMB27GAYexWcX5OQKZw2d4+kgMAAAAOAZ5Aakf/AAADAAADAakAAAAXQZpFSahBbJlMCGf//p4QAAADAAADAz8AAAAQQZ5jRRUsI/8AAAMAAAMBBwAAAA4BnoJ0R/8AAAMAAAMBqQAAAA4BnoRqR/8AAAMAAAMBqQAAAEhBmolJqEFsmUwIZ//+nhAAAEVlQU/RWJtjmAsm/4ArQNSpi4Na011NJXI343e8Chr0oEi4UxaR7a68M9jp2odgqlLH2Txdwj8AAABAQZ6nRRUsI/8AABa8Q823FbJ0anfmJcxyrz9AEbf72YV228QyOeDI1mYT+xdloyMK6u+lo/KfPVw63EpLxsm2YQAAACABnsZ0R/8AACO4r9xVe6qsmoD4xl30HM7vHnDpmgoSTAAAAB0BnshqR/8AACO/BCcSyWmdMFgMBIW18STksZdSTAAAAEtBms1JqEFsmUwIZ//+nhAAABnfUVitYGmcHynnA3ZL5+qW4GmCajiDGgtrJcQAcKuj4DlzptYJQQZFP3QnSROSdD1DGAHPdqnntZ8AAAAcQZ7rRRUsI/8AAAgsCh5F5AnTPCPZCSPGWmohyQAAABsBnwp0R/8AAA0uEvMlzfPBQRvzDFYe2sOgskwAAAAOAZ8Makf/AAADAAADAakAAAAXQZsRSahBbJlMCGf//p4QAAADAAADAz8AAAAlQZ8vRRUsI/8AAAMAc8gzlyUDIKQTnItc+6AEHHEzootC7tl21QAAABMBn050R/8AAAMARYZ8HPGxJPaAAAAAEgGfUGpH/wAAAwBFZFYOJnPT2gAAAFVBm1VJqEFsmUwIZ//+nhAAAAMDt1q/7i1LCgQAOsIGeVMhZau0hLwK3EFLPqCvS97FXwtJQJzf4vUJ3tORge3Glm92oaOAvEKXISX4xQme9eRxNbVRAAAAHUGfc0UVLCP/AAADATXk5swthSF6Ztjk8xhAJI5IAAAADgGfknRH/wAAAwAAAwGpAAAAGwGflGpH/wAAAwHmf9VsayzrDDbHb/angI4gIQAAADNBm5lJqEFsmUwIZ//+nhAAAEVFCDQBWzTl/CCE9TUSDPrhdrin8+R9DFgMGUsFRPraQxYAAAAoQZ+3RRUsI/8AABa1WFU0Q0MqvmRKiGV1KuUqj6cjexOt0Yux2G0tmQAAABwBn9Z0R/8AACPDPg2aNCqaZ9rxzfOD0u5lnJJhAAAAGwGf2GpH/wAABR801bGqnlx0EXKXL8r/VLjeSAAAAB1Bm91JqEFsmUwIZ//+nhAAAAMAB5RIcg91sD9HpQAAABBBn/tFFSwj/wAAAwAAAwEHAAAADgGeGnRH/wAAAwAAAwGpAAAADgGeHGpH/wAAAwAAAwGpAAAAF0GaAUmoQWyZTAhn//6eEAAAAwAAAwM+AAAAEEGeP0UVLCP/AAADAAADAQcAAAAOAZ5edEf/AAADAAADAakAAAAOAZ5Aakf/AAADAAADAakAAABBQZpFSahBbJlMCGf//p4QAABFRQg0AT4VV5mkrlaqzS0DD+PdaF6kb1boAM+paGBrdePtGNBd/zqC17HfsJQsOqEAAAAYQZ5jRRUsI/8AABa8TmzC2EsLSpw/jpeAAAAADgGegnRH/wAAAwAAAwGpAAAAKAGehGpH/wAAI78azjoTaGttqj0HWZEDj5IPVCuFe1DMzkUamjY75GEAAABUQZqJSahBbJlMCGf//p4QAAADAWs2reIIn6bk+zQBmwFBVSlO74hvkEQnuwWXJh9STWVMKOTrpXcBVLgD+x9+GH4Fe60NuWSoryMIN/fQhDtQnBbhAAAAK0Gep0UVLCP/AAAIUw4KAFuUIItqlWi/fw8aaFf4P26zPp+RNrCsfQP0dbMAAAAcAZ7GdEf/AAADAeaxn5n7fbHQYfk8+WEjlDBITAAAABoBnshqR/8AAAMAuAa+uZyJ+9qkUqQXC9DODgAAADdBms1JqEFsmUwIX//+jLAAAAMBbo6dMe6sPoQ7XpXAA0zqWKpAB2brDOjLyn9SfNQ7zXmJc/VfAAAAGUGe60UVLCP/AAADAy9rMijDzwVjSTFRRg8AAAAWAZ8KdEf/AAAFHFxK+3HYFj85bzGDwAAAABEBnwxqR/8AAAUfNQtiwdqDgQAAABpBmxFJqEFsmUwIX//+jLAAAAMAB02KQr5FwQAAADBBny9FFSwj/wAAAwMv7kEEqQAsk56MR5P8U03GZkvHpFg6aIlqe+d2qRnAs0XDftkAAAAdAZ9OdEf/AAAFGQewaRZ1wl8ikCBmnYebtZtByMAAAAAdAZ9Qakf/AAAFHzTU7wpwZd71Oq7rca/y/WsFQmAAAAA3QZtVSahBbJlMCF///oywAAADAW37M91BVt3X2qjwAVopxjVksUXbzsSVLu8+eYy29RTTCTMBgQAAADZBn3NFFSwj/wAAFrMsciu8ADi4iakNPDCdNGN0gIHqV8AMI7dMeh5x8rbedrRBpA9l4zAYypgAAAAbAZ+SdEf/AAAjwzL8fvu32WirZUuSgodjFmS8AAAAIAGflGpH/wAAI78YR7s2l45xaxbTaIuE3BPSmJYzTNwJAAAAMUGblkmoQWyZTAhn//6eEAAARVIGgtH0u1FPqX4rZ9IAGjCzCYEtQAHKLp8HEzFB8Y8AAAAZQZu6SeEKUmUwIX/+jLAAAAMBePc0L6AekQAAAB9Bn9hFNEwj/wAAAwE2CmldQGQVkdVt+iLLLys4RTFRAAAAGgGf93RH/wAAAwC6C28yXQddw+NH2GX6ZtmAAAAAGwGf+WpH/wAAAwHlzUaYiV0NUKDPkxBPWUPtgQAAAExBm/5JqEFomUwIX//+jLAAAAMDuywCMr3YAE6przooyvx14ehKKw/4+FFy0KxRHfKtU4G7wEiO7wWvpZHCQrgLdt3Qv2RtHkBtWVekAAAAIkGeHEURLCP/AAADATXk5rwv+3Hwqdk5SwlA6Af5aT9T9mEAAAAOAZ47dEf/AAADAAADAakAAAAcAZ49akf/AAADAeZ/1Ul/E3JyweLo662UVIcYEAAAACBBmiJJqEFsmUwIV//+OEAAAAWI2j3no+AbZPL8fhepoAAAACBBnkBFFSwj/wAAAwE2KfZGgwwXogZZiy4NsrDyY66EwQAAABsBnn90R/8AAAMB5YoeGah4rdMJtpD9q63Fw4EAAAAaAZ5hakf/AAADAeXNRphSGtHPhGuYy/McshMAAAAiQZpkSahBbJlMFEwr//44QAABDPoluRE23Ux76zzeu7VDLgAAAB4BnoNqR/8AACO/Gs575nrtF0sKTc6d+CSLfsjKfbEAAAAWQZqISeEKUmUwIR/94QAAAwAAAwAxYQAAAClBnqZFNEwj/wAAAwE0z8XnsPq0IiB2FABGRpJyvkiLEWmDbvDNSl3AgQAAABsBnsV0R/8AAAMB5YoeZJPeJOMsMJLhdQv2/ZkAAAAcAZ7Hakf/AAADAeXNRphSGtHP0SKa4FQRLrTAgAAAABZBmslJqEFomUwI//yEAAADAAADAMCAAAAMm21vb3YAAABsbXZoZAAAAAAAAAAAAAAAAAAAA+gAAA/IAAEAAAEAAAAAAAAAAAAAAAABAAAAAAAAAAAAAAAAAAAAAQAAAAAAAAAAAAAAAAAAQAAAAAAAAAAAAAAAAAAAAAAAAAAAAAAAAAAAAAAAAAIAAAvFdHJhawAAAFx0a2hkAAAAAwAAAAAAAAAAAAAAAQAAAAAAAA/IAAAAAAAAAAAAAAAAAAAAAAABAAAAAAAAAAAAAAAAAAAAAQAAAAAAAAAAAAAAAAAAQAAAAAJYAAABkAAAAAAAJGVkdHMAAAAcZWxzdAAAAAAAAAABAAAPyAAAAgAAAQAAAAALPW1kaWEAAAAgbWRoZAAAAAAAAAAAAAAAAAAAMgAAAMoAVcQAAAAAAC1oZGxyAAAAAAAAAAB2aWRlAAAAAAAAAAAAAAAAVmlkZW9IYW5kbGVyAAAACuhtaW5mAAAAFHZtaGQAAAABAAAAAAAAAAAAAAAkZGluZgAAABxkcmVmAAAAAAAAAAEAAAAMdXJsIAAAAAEAAAqoc3RibAAAALBzdHNkAAAAAAAAAAEAAACgYXZjMQAAAAAAAAABAAAAAAAAAAAAAAAAAAAAAAJYAZAASAAAAEgAAAAAAAAAAQAAAAAAAAAAAAAAAAAAAAAAAAAAAAAAAAAAAAAAAAAAABj//wAAADZhdmNDAWQAH//hABlnZAAfrNlAmDPl4QAAAwABAAADAGQPGDGWAQAGaOvjyyLA/fj4AAAAABRidHJ0AAAAAAAARLwAAES8AAAAGHN0dHMAAAAAAAAAAQAAAMoAAAEAAAAAFHN0c3MAAAAAAAAAAQAAAAEAAAZYY3R0cwAAAAAAAADJAAAAAgAAAgAAAAABAAAFAAAAAAEAAAIAAAAAAQAAAAAAAAABAAABAAAAAAEAAAUAAAAAAQAAAgAAAAABAAAAAAAAAAEAAAEAAAAAAQAABQAAAAABAAACAAAAAAEAAAAAAAAAAQAAAQAAAAABAAAFAAAAAAEAAAIAAAAAAQAAAAAAAAABAAABAAAAAAEAAAUAAAAAAQAAAgAAAAABAAAAAAAAAAEAAAEAAAAAAQAABQAAAAABAAACAAAAAAEAAAAAAAAAAQAAAQAAAAABAAAFAAAAAAEAAAIAAAAAAQAAAAAAAAABAAABAAAAAAEAAAUAAAAAAQAAAgAAAAABAAAAAAAAAAEAAAEAAAAAAQAABQAAAAABAAACAAAAAAEAAAAAAAAAAQAAAQAAAAABAAAFAAAAAAEAAAIAAAAAAQAAAAAAAAABAAABAAAAAAEAAAUAAAAAAQAAAgAAAAABAAAAAAAAAAEAAAEAAAAAAQAABQAAAAABAAACAAAAAAEAAAAAAAAAAQAAAQAAAAABAAAFAAAAAAEAAAIAAAAAAQAAAAAAAAABAAABAAAAAAEAAAUAAAAAAQAAAgAAAAABAAAAAAAAAAEAAAEAAAAAAQAABQAAAAABAAACAAAAAAEAAAAAAAAAAQAAAQAAAAABAAAFAAAAAAEAAAIAAAAAAQAAAAAAAAABAAABAAAAAAEAAAUAAAAAAQAAAgAAAAABAAAAAAAAAAEAAAEAAAAAAQAABQAAAAABAAACAAAAAAEAAAAAAAAAAQAAAQAAAAABAAAFAAAAAAEAAAIAAAAAAQAAAAAAAAABAAABAAAAAAEAAAUAAAAAAQAAAgAAAAABAAAAAAAAAAEAAAEAAAAAAQAABQAAAAABAAACAAAAAAEAAAAAAAAAAQAAAQAAAAABAAAFAAAAAAEAAAIAAAAAAQAAAAAAAAABAAABAAAAAAEAAAUAAAAAAQAAAgAAAAABAAAAAAAAAAEAAAEAAAAAAQAABQAAAAABAAACAAAAAAEAAAAAAAAAAQAAAQAAAAABAAAFAAAAAAEAAAIAAAAAAQAAAAAAAAABAAABAAAAAAEAAAUAAAAAAQAAAgAAAAABAAAAAAAAAAEAAAEAAAAAAQAABQAAAAABAAACAAAAAAEAAAAAAAAAAQAAAQAAAAABAAAFAAAAAAEAAAIAAAAAAQAAAAAAAAABAAABAAAAAAEAAAUAAAAAAQAAAgAAAAABAAAAAAAAAAEAAAEAAAAAAQAABQAAAAABAAACAAAAAAEAAAAAAAAAAQAAAQAAAAABAAAFAAAAAAEAAAIAAAAAAQAAAAAAAAABAAABAAAAAAEAAAUAAAAAAQAAAgAAAAABAAAAAAAAAAEAAAEAAAAAAQAABQAAAAABAAACAAAAAAEAAAAAAAAAAQAAAQAAAAABAAAFAAAAAAEAAAIAAAAAAQAAAAAAAAABAAABAAAAAAEAAAUAAAAAAQAAAgAAAAABAAAAAAAAAAEAAAEAAAAAAQAABQAAAAABAAACAAAAAAEAAAAAAAAAAQAAAQAAAAABAAAFAAAAAAEAAAIAAAAAAQAAAAAAAAABAAABAAAAAAEAAAUAAAAAAQAAAgAAAAABAAAAAAAAAAEAAAEAAAAAAQAABQAAAAABAAACAAAAAAEAAAAAAAAAAQAAAQAAAAABAAAFAAAAAAEAAAIAAAAAAQAAAAAAAAABAAABAAAAAAEAAAUAAAAAAQAAAgAAAAABAAAAAAAAAAEAAAEAAAAAAQAABQAAAAABAAACAAAAAAEAAAAAAAAAAQAAAQAAAAABAAAFAAAAAAEAAAIAAAAAAQAAAAAAAAABAAABAAAAAAEAAAUAAAAAAQAAAgAAAAABAAAAAAAAAAEAAAEAAAAAAQAABQAAAAABAAACAAAAAAEAAAAAAAAAAQAAAQAAAAABAAACAAAAAAEAAAUAAAAAAQAAAgAAAAABAAAAAAAAAAEAAAEAAAAAAQAABQAAAAABAAACAAAAAAEAAAAAAAAAAQAAAQAAAAABAAAFAAAAAAEAAAIAAAAAAQAAAAAAAAABAAABAAAAAAEAAAMAAAAAAQAAAQAAAAABAAAFAAAAAAEAAAIAAAAAAQAAAAAAAAABAAABAAAAAAEAAAIAAAAAHHN0c2MAAAAAAAAAAQAAAAEAAADKAAAAAQAAAzxzdHN6AAAAAAAAAAAAAADKAAADxwAAAcwAAABbAAAAIgAAADMAAAASAAAAfAAAADMAAAAiAAAAHQAAAD8AAAAlAAAAEgAAACAAAAAbAAAAFAAAABIAAAASAAAAWgAAACAAAAAeAAAAIwAAAEEAAAAfAAAAEgAAABwAAABpAAAAIgAAACUAAAASAAAAbwAAACMAAAASAAAAHwAAAE8AAAAnAAAAMAAAAB8AAABiAAAALAAAACAAAAAbAAAANwAAAB4AAAAaAAAAEgAAABsAAAAUAAAAEgAAABIAAAAbAAAAKQAAAB4AAAAfAAAAVQAAACgAAAAbAAAAIgAAABsAAAAlAAAAHgAAAB4AAAA5AAAAIgAAABIAAAAfAAAANQAAACUAAAAfAAAAGwAAADoAAAAnAAAAHwAAABsAAAAuAAAAHQAAABwAAAASAAAAGwAAABQAAAASAAAAEgAAABsAAAAUAAAAEgAAACoAAABXAAAAMgAAACkAAAAjAAAAKQAAAB4AAAAXAAAAFwAAAB8AAAAaAAAAFwAAABUAAABSAAAAIwAAABUAAAAfAAAATQAAACcAAAAUAAAAIgAAADsAAAAgAAAAHwAAABIAAAAeAAAAJQAAAB4AAAAeAAAATgAAACcAAAAeAAAAFAAAAB4AAAA0AAAAIQAAACEAAABSAAAAKwAAABsAAAAfAAAAMAAAACEAAAAfAAAAEgAAABsAAAAUAAAAEgAAABIAAABMAAAARAAAACQAAAAhAAAATwAAACAAAAAfAAAAEgAAABsAAAApAAAAFwAAABYAAABZAAAAIQAAABIAAAAfAAAANwAAACwAAAAgAAAAHwAAACEAAAAUAAAAEgAAABIAAAAbAAAAFAAAABIAAAASAAAARQAAABwAAAASAAAALAAAAFgAAAAvAAAAIAAAAB4AAAA7AAAAHQAAABoAAAAVAAAAHgAAADQAAAAhAAAAIQAAADsAAAA6AAAAHwAAACQAAAA1AAAAHQAAACMAAAAeAAAAHwAAAFAAAAAmAAAAEgAAACAAAAAkAAAAJAAAAB8AAAAeAAAAJgAAACIAAAAaAAAALQAAAB8AAAAgAAAAGgAAABRzdGNvAAAAAAAAAAEAAAAwAAAAYnVkdGEAAABabWV0YQAAAAAAAAAhaGRscgAAAAAAAAAAbWRpcmFwcGwAAAAAAAAAAAAAAAAtaWxzdAAAACWpdG9vAAAAHWRhdGEAAAABAAAAAExhdmY1OC43Ni4xMDA=\" type=\"video/mp4\">\n",
              "</video>\n"
            ]
          },
          "metadata": {},
          "execution_count": 22
        }
      ],
      "source": [
        "#@title Visualise Policy {display-mode: \"form\"}\n",
        "#@markdown Choose an episode number that is a multiple of 100 and less than or equal to 2000, and **run** this cell.\n",
        "episode_number = 1000 #@param {type:\"number\"}\n",
        "\n",
        "assert (episode_number % 100) == 0, \"Episode number must be a multiple of 100 since we only record every 100th episode.\"\n",
        "assert episode_number < 1001, \"Episode number must be less than or equal to 2000\"\n",
        "\n",
        "eval_episode_number = int(episode_number / 100 * 8)\n",
        "video_path = f\"./video/rps/eval/rl-video-episode-{eval_episode_number}.mp4\"\n",
        "\n",
        "mp4 = open(video_path,'rb').read()\n",
        "data_url = \"data:video/mp4;base64,\" + b64encode(mp4).decode()\n",
        "HTML(\"\"\"\n",
        "<video width=400 controls>\n",
        "      <source src=\"%s\" type=\"video/mp4\">\n",
        "</video>\n",
        "\"\"\" % data_url)"
      ]
    },
    {
      "cell_type": "markdown",
      "metadata": {
        "id": "Xwf1IKKbrrVn"
      },
      "source": [
        "Итак, случайный поиск политики справился с этой задачей довольно хорошо. Однако здесь происходит очень мало (если вообще происходит) реального *обучения*. Далее давайте рассмотрим реализацию простого алгоритма RL, который может использовать свой опыт для руководства нашим поиском оптимальной политики, а не просто искать ее случайным образом."
      ]
    },
    {
      "cell_type": "markdown",
      "metadata": {
        "id": "XEnSjZVESrxc"
      },
      "source": [
        "## 3. Градиенты политики  (Policy Gradients, PG)\n",
        "Как обсуждалось, цель RL — найти политику, которая максимизирует ожидаемое совокупное вознаграждение (возврат), которое агент получает от среды. Мы можем записать ожидаемый возврат политики как:\n",
        "\n",
        "$J(\\pi_\\theta)=\\mathrm{E}_{\\tau\\sim\\pi_\\theta}\\ [R(\\tau)]$,\n",
        "\n",
        "где $\\pi_\\theta$ — это политика, параметризованная $\\theta$, $\\mathrm{E}$ означает *ожидание*, $\\tau$ — это сокращение для \"*эпизод*\", $\\tau\\sim\\pi_\\theta$ — это сокращение для \"*эпизоды, выбранные с использованием политики* $\\pi_\\theta$\", а $R(\\tau)$ — это возврат эпизода $\\tau$.\n",
        "\n",
        "Затем, цель в RL — найти параметры $\\theta$, которые максимизируют функцию $J(\\pi_\\theta)$. Один из способов найти эти параметры — выполнить градиентный подъем по $J(\\pi_\\theta)$ относительно параметров $\\theta$:\n",
        "\n",
        "$\\theta_{k+1}=\\theta_k + \\alpha \\nabla J(\\pi_\\theta)|_{\\theta_{k}}$,\n",
        "\n",
        "где $\\nabla J(\\pi_\\theta)|_{\\theta_{k}}$ — градиент ожидаемой доходности относительно параметров политики $\\theta_k$, а $\\alpha$ — размер шага. Эта величина, $\\nabla J(\\pi_\\theta)$, также называется **градиентом политики** и очень важна в RL. Если мы сможем вычислить градиент политики, то у нас будет средство, с помощью которого можно напрямую оптимизировать нашу политику.\n",
        "\n",
        "Как оказалось, у нас есть способ вычислить градиент политики, и математический вывод можно найти [здесь](https://spinningup.openai.com/en/latest/spinningup/rl_intro3.html). Но для этого руководства мы опустим вывод и просто дадим вам результат:\n",
        "\n",
        "$\\nabla_{\\theta} J(\\pi_{\\theta})=\\underset{\\tau \\sim \\pi_{\\theta}}{\\mathrm{E}}[\\sum_{t=0}^{T} \\nabla_{\\theta} \\log \\pi_{\\theta}(a_{t} \\mid s_{t}) R(\\tau)]$\n",
        "\n",
        "Неформально, градиент политики равен градиенту логарифма вероятности выбранного действия, умноженного на возврат эпизода, в котором было предпринято действие.\n"
      ]
    },
    {
      "cell_type": "markdown",
      "metadata": {
        "id": "BTnTzgtSuy-y"
      },
      "source": [
        "### REINFORCE\n",
        "REINFORCE — это простой алгоритм RL, который использует градиент политики для поиска оптимальной политики путем увеличения вероятности выбора действий (усиливающих действий), которые, как правило, приводят к эпизодам с высокой отдачей.\n",
        "\n",
        "**Упражнение 6:** Реализуйте функцию, которая берет вероятность действия и отдачу эпизода, в котором действие было предпринято, и вычисляет логарифм вероятности, умноженный на отдачу. Убедитесь, что вы используете JAX.\n",
        "\n",
        "**Полезные функции:**\n",
        "*   `jax.numpy.log`([docs](https://jax.readthedocs.io/en/latest/_autosummary/jax.numpy.log.html))"
      ]
    },
    {
      "cell_type": "code",
      "execution_count": 23,
      "metadata": {
        "id": "bJObUsoUrOyV"
      },
      "outputs": [],
      "source": [
        "import jax.numpy as jnp\n",
        "\n",
        "def compute_weighted_log_prob(action_prob, episode_return):\n",
        "\n",
        "    # YOUR CODE\n",
        "\n",
        "    log_prob = jnp.log(action_prob)\n",
        "\n",
        "    weighted_log_prob = log_prob * episode_return\n",
        "\n",
        "    # END YOUR CODE\n",
        "\n",
        "    return weighted_log_prob"
      ]
    },
    {
      "cell_type": "code",
      "execution_count": 24,
      "metadata": {
        "id": "eZPoTwa1Gbm1",
        "colab": {
          "base_uri": "https://localhost:8080/"
        },
        "outputId": "b84636ed-bc31-4174-cb12-feb84853e6bd"
      },
      "outputs": [
        {
          "output_type": "stream",
          "name": "stdout",
          "text": [
            "Looks correct.\n"
          ]
        }
      ],
      "source": [
        "#@title Проверка упр 6 {display-mode: \"form\"}\n",
        "\n",
        "try:\n",
        "  action_prob = 0.8\n",
        "  episode_return = 100\n",
        "  result = compute_weighted_log_prob(action_prob, episode_return)\n",
        "  if result != -22.314354:\n",
        "    print(\"Your implementation looks incorrect.\")\n",
        "  else:\n",
        "    print(\"Looks correct.\")\n",
        "except Exception as e:\n",
        "    print(\"An Error Occured: {}\".format(e))"
      ]
    },
    {
      "cell_type": "markdown",
      "metadata": {
        "id": "NmgW9UJ3tIpl"
      },
      "source": [
        "### Rewards-to-go\n",
        "Выполнение градиентного подъема по градиенту логарифма вероятности действия, взвешенного по возврату эпизода, будет иметь тенденцию повышать вероятность действий, которые были в эпизодах с высоким возвратом, независимо от того, *где* в эпизоде ​​было выполнено действие. Это на самом деле не имеет большого смысла, потому что действие ближе к концу эпизода может быть подкреплено, потому что много вознаграждения было собрано ранее в эпизоде, *до* того, как было выполнено действие. Агенты RL должны на самом деле подкреплять действия только на основе их *последствий*. Вознаграждения, полученные до выполнения действия, не влияют на то, насколько хорошим было это действие: только вознаграждения, которые приходят после. Накопленные вознаграждения, полученные после выполнения действия, называются **вознаграждениями-к-переходу** и могут быть вычислены как:\n",
        "\n",
        "$\\hat{R}_i=\\sum_{t=i}^Tr_t$\n",
        "\n",
        "Сравните это с доходностью эпизода:\n",
        "\n",
        "$R(\\tau)=\\sum_{t=0}^Tr_t$\n",
        "\n",
        "Мы можем повысить надежность градиента политики, заменив доходность эпизода на вознаграждения-к-переходу. Градиент политики с оставшимися наградами задается следующим образом:\n",
        "\n",
        "$\\nabla_{\\theta} J(\\pi_{\\theta})=\\underset{\\tau \\sim \\pi_{\\theta}}{\\mathrm{E}}[\\sum_{t=0}^{T} \\nabla_{\\theta} \\log \\pi_{\\theta}(a_{t} \\mid s_{t}) \\hat{R}_t]$\n",
        "\n",
        "**Упражнение 7:** Реализуйте функцию, которая берет список всех наград, полученных в эпизоде, и вычисляет оставшиеся награды. Не беспокойтесь об использовании JAX в этой функции. Вы можете использовать обычные операции Python, такие как `for-loops`."
      ]
    },
    {
      "cell_type": "code",
      "execution_count": 25,
      "metadata": {
        "id": "nV1Hww8E3dUJ"
      },
      "outputs": [],
      "source": [
        "def compute_rewards_to_go(rewards):\n",
        "    \"\"\"\n",
        "    This function should take a list of rewards as input and\n",
        "    compute the rewards-to-go for each timestep.\n",
        "\n",
        "    EXAMPLE: compute_rewards_to_go([1,2,3,4]) = [10, 9, 7, 4]\n",
        "\n",
        "    Arguments:\n",
        "        rewards[t] is the reward at time step t.\n",
        "\n",
        "    Returns:\n",
        "        rewards_to_go[t] should be the reward-to-go at timestep t.\n",
        "    \"\"\"\n",
        "\n",
        "    rewards_to_go = []\n",
        "\n",
        "    # YOUR CODE\n",
        "    total_reward = 0\n",
        "    for reward in reversed(rewards):\n",
        "      total_reward += reward\n",
        "      rewards_to_go.insert(0, total_reward)\n",
        "\n",
        "    # END YOUR CODE\n",
        "\n",
        "    return rewards_to_go"
      ]
    },
    {
      "cell_type": "code",
      "execution_count": 26,
      "metadata": {
        "id": "hLVaVRp28YGI",
        "colab": {
          "base_uri": "https://localhost:8080/"
        },
        "outputId": "24d2ec5a-b28e-407a-e134-cf5afb7f10bb"
      },
      "outputs": [
        {
          "output_type": "stream",
          "name": "stdout",
          "text": [
            "Looks correct.\n"
          ]
        }
      ],
      "source": [
        "#@title Проверка упр 7 {display-mode: \"form\"}\n",
        "\n",
        "try:\n",
        "  result = compute_rewards_to_go([1,2,3,4])\n",
        "\n",
        "  if result != [10, 9, 7, 4]:\n",
        "    print(\"There is a problem with your implementation.\")\n",
        "  else:\n",
        "    print(\"Looks correct.\")\n",
        "except Exception as e:\n",
        "    print(\"An Error Occured: {}\".format(e))\n"
      ]
    },
    {
      "cell_type": "markdown",
      "metadata": {
        "id": "IboxN9MS65i5"
      },
      "source": [
        "### REINFORCE memory\n",
        "Далее нам нужно будет создать новую память агента для хранения вознаграждений $\\hat{R}_t$ вместе с наблюдением $o_t$ и действием $a_t$ на каждом временном шаге. Ниже мы реализовали такой модуль памяти для вас. Функция `memory.sample()` вернет пакет из последних 500 воспоминаний. Вы можете прочитать код, чтобы попытаться понять его, но это не обязательно. Поэтому мы скрываем код по умолчанию."
      ]
    },
    {
      "cell_type": "code",
      "execution_count": 27,
      "metadata": {
        "id": "xhS4V6auRjM3"
      },
      "outputs": [],
      "source": [
        "# @title Реализация памяти (run me) {display-mode: \"form\"}\n",
        "\n",
        "# NamedTuple to store memory\n",
        "EpisodeRewardsToGoMemory = collections.namedtuple(\"EpisodeRewardsToGoMemory\", [\"obs\", \"action\", \"reward_to_go\"])\n",
        "\n",
        "class EpisodeRewardsToGoBuffer:\n",
        "\n",
        "    def __init__(self, num_transitions_to_store=512, batch_size=256):\n",
        "        self.batch_size = batch_size\n",
        "        self.memory_buffer = collections.deque(maxlen=num_transitions_to_store)\n",
        "        self.current_episode_transition_buffer = []\n",
        "\n",
        "    def push(self, transition):\n",
        "        self.current_episode_transition_buffer.append(transition)\n",
        "\n",
        "        if transition.done:\n",
        "\n",
        "            episode_rewards = []\n",
        "            for t in self.current_episode_transition_buffer:\n",
        "                episode_rewards.append(t.reward)\n",
        "\n",
        "            r2g = compute_rewards_to_go(episode_rewards)\n",
        "\n",
        "            for i, t in enumerate(self.current_episode_transition_buffer):\n",
        "                memory = EpisodeRewardsToGoMemory(t.obs, t.action, r2g[i])\n",
        "                self.memory_buffer.append(memory)\n",
        "\n",
        "            # Reset episode buffer\n",
        "            self.current_episode_transition_buffer = []\n",
        "\n",
        "\n",
        "    def is_ready(self):\n",
        "        return len(self.memory_buffer) >= self.batch_size\n",
        "\n",
        "    def sample(self):\n",
        "        random_memory_sample = random.sample(self.memory_buffer, self.batch_size)\n",
        "\n",
        "        obs_batch, action_batch, reward_to_go_batch = zip(*random_memory_sample)\n",
        "\n",
        "        return EpisodeRewardsToGoMemory(\n",
        "            np.stack(obs_batch).astype(\"float32\"),\n",
        "            np.asarray(action_batch).astype(\"int32\"),\n",
        "            np.asarray(reward_to_go_batch).astype(\"int32\")\n",
        "        )\n",
        "\n",
        "\n",
        "# Instantiate Memory\n",
        "REINFORCE_memory = EpisodeRewardsToGoBuffer(num_transitions_to_store=512, batch_size=256)"
      ]
    },
    {
      "cell_type": "markdown",
      "metadata": {
        "id": "Idkav_aSYXvz"
      },
      "source": [
        "### Policy neural network\n",
        "Далее мы будем использовать простую нейронную сеть для аппроксимации политики. Наша нейронная сеть политики будет иметь входной слой, который принимает наблюдение в качестве входных данных и пропускает его через два скрытых слоя, а затем выводит одно скалярное значение для каждого из возможных действий. Таким образом, в CartPole выходной слой будет иметь размер `2`.\n",
        "\n",
        "[Haiku](https://github.com/deepmind/dm-haiku) — это библиотека для реализации нейронных сетей в JAX. Ниже мы реализовали простую функцию для создания сети политики для вас.\n"
      ]
    },
    {
      "cell_type": "code",
      "execution_count": 28,
      "metadata": {
        "id": "j2XO7VkORjM4"
      },
      "outputs": [],
      "source": [
        "def make_policy_network(num_actions: int, layers=[20, 20]) -> hk.Transformed:\n",
        "  \"\"\"Factory for a simple MLP network for the policy.\"\"\"\n",
        "\n",
        "  def policy_network(obs):\n",
        "    network = hk.Sequential(\n",
        "        [\n",
        "            hk.Flatten(),\n",
        "            hk.nets.MLP(layers + [num_actions])\n",
        "        ]\n",
        "    )\n",
        "    return network(obs)\n",
        "\n",
        "  return hk.without_apply_rng(hk.transform(policy_network))"
      ]
    },
    {
      "cell_type": "markdown",
      "metadata": {
        "id": "1GR2y8FjaG-G"
      },
      "source": [
        "У сетей Haiku есть две важные функции, о которых вам нужно знать. Первая — `network.init(<random_key>, <input>)`, которая возвращает набор случайных начальных параметров. Второй метод — `network.apply(<params>, <input>)`, который передает входные данные через сеть, используя предоставленный набор параметров."
      ]
    },
    {
      "cell_type": "code",
      "execution_count": 29,
      "metadata": {
        "id": "fJrn9o-Vatkw",
        "colab": {
          "base_uri": "https://localhost:8080/"
        },
        "outputId": "0ad3e3aa-b064-4bbf-f2eb-e66cbf47eed0"
      },
      "outputs": [
        {
          "output_type": "stream",
          "name": "stdout",
          "text": [
            "Initial params: dict_keys(['mlp/~/linear_0', 'mlp/~/linear_1', 'mlp/~/linear_2'])\n",
            "Policy network output: [ 0.91155875 -0.3961737 ]\n"
          ]
        }
      ],
      "source": [
        "# Example\n",
        "POLICY_NETWORK = make_policy_network(num_actions=num_actions, layers=[20,20])\n",
        "random_key = jax.random.PRNGKey(42) # random key\n",
        "dummy_obs = np.ones(obs_shape, \"float32\")\n",
        "\n",
        "# Initialise parameters\n",
        "REINFORCE_params = POLICY_NETWORK.init(random_key, dummy_obs)\n",
        "print(\"Initial params:\", REINFORCE_params.keys())\n",
        "\n",
        "# Pass input through the network\n",
        "output = POLICY_NETWORK.apply(REINFORCE_params, dummy_obs)\n",
        "print(\"Policy network output:\", output)\n"
      ]
    },
    {
      "cell_type": "markdown",
      "metadata": {
        "id": "MlouUBvoeunz"
      },
      "source": [
        "Выходы нашей сети политик — [логиты](https://qr.ae/pv4YTe). Чтобы преобразовать это в распределение вероятностей по действиям, мы передаем логиты в функцию [softmax](https://en.wikipedia.org/wiki/Softmax_function).\n",
        "\n",
        "### УСИЛЕНИЕ выбор функции действия\n",
        "\n",
        "**Упражнение 8:** Завершите функцию ниже, которая берет вектор логитов и случайным образом выбирает действие из категориального распределения, заданного логитами.\n",
        "\n",
        "**Полезные функции:**"
      ]
    },
    {
      "cell_type": "code",
      "execution_count": 30,
      "metadata": {
        "id": "m3Z8DxUmeOGJ"
      },
      "outputs": [],
      "source": [
        "def sample_action(random_key, logits):\n",
        "\n",
        "  # YOUR CODE HERE\n",
        "  action = jax.random.categorical(random_key, logits)\n",
        "\n",
        "  # END YOUR code\n",
        "\n",
        "  return action"
      ]
    },
    {
      "cell_type": "code",
      "execution_count": 31,
      "metadata": {
        "id": "5opHJMO0D_Ub",
        "colab": {
          "base_uri": "https://localhost:8080/"
        },
        "outputId": "0f08818a-2237-498a-9573-c658c3ed7753"
      },
      "outputs": [
        {
          "output_type": "stream",
          "name": "stdout",
          "text": [
            "Seems correct.\n"
          ]
        }
      ],
      "source": [
        "#@title Проверка упр 8 {display-mode: \"form\"}\n",
        "\n",
        "try:\n",
        "  random_key = jax.random.PRNGKey(42) # random key\n",
        "  action = sample_action(random_key, np.array([1,2], \"float32\"))\n",
        "  if action != 1:\n",
        "    print(\"Your function is incorrect.\")\n",
        "  else:\n",
        "    print(\"Seems correct.\")\n",
        "except Exception as e:\n",
        "    print(\"An Error Occured: {}\".format(e))"
      ]
    },
    {
      "cell_type": "markdown",
      "metadata": {
        "id": "jP5UH87VRjM4"
      },
      "source": [
        "Теперь мы можем реализовать функцию `REINFORCE_choose_action`. Мы передадим наблюдение через сеть политики для вычисления логитов, а затем передадим логиты в функцию `sample_action` для выбора и действия."
      ]
    },
    {
      "cell_type": "code",
      "execution_count": 32,
      "metadata": {
        "id": "UJTzrDAZ0Ul5"
      },
      "outputs": [],
      "source": [
        "def REINFORCE_choose_action(key, params, actor_state, obs, evaluation=False):\n",
        "  obs = jnp.expand_dims(obs, axis=0) # add dummy batch dim before passing through network\n",
        "\n",
        "  # Pass obs through policy network to compute logits\n",
        "  logits = POLICY_NETWORK.apply(params, obs)\n",
        "  logits = logits[0] # remove batch dim\n",
        "\n",
        "  # Randomly sample action\n",
        "  sampled_action = sample_action(key, logits)\n",
        "\n",
        "  return sampled_action, actor_state"
      ]
    },
    {
      "cell_type": "markdown",
      "metadata": {
        "id": "NI26SLAb7iRo"
      },
      "source": [
        "Теперь, когда мы реализовали функцию `REINFORCE_choose_action`, нам осталось только создать функцию `REINFORCE_learn`. Функция обучения должна использовать функцию `weighted_log_prob`, которую мы создали ранее, чтобы вычислить потери градиента политики и применить обновления градиента к нашей нейронной сети."
      ]
    },
    {
      "cell_type": "markdown",
      "metadata": {
        "id": "36ALCJESQJ8e"
      },
      "source": [
        "### Policy gradient loss\n",
        "\n",
        "\n",
        "**Упражнение 9:** Завершите функцию `policy_gradient_loss` ниже. Функция должна вычислять вероятности действий, пропуская `logits` через функцию softmax. Затем следует извлечь вероятность заданного `action` (используя индексацию массива) и вычислить `weighted_log_prob`, используя функцию, которую мы создали ранее.\n",
        "\n",
        "**Полезные методы:**\n",
        "*   `jax.nn.softmax` ([docs](https://jax.readthedocs.io/en/latest/_autosummary/jax.nn.softmax.html))"
      ]
    },
    {
      "cell_type": "code",
      "execution_count": 33,
      "metadata": {
        "id": "9sUKkqx0RjM4"
      },
      "outputs": [],
      "source": [
        "import jax.nn\n",
        "def policy_gradient_loss(action, logits, reward_to_go):\n",
        "\n",
        "    all_action_probs = jax.nn.softmax(logits)\n",
        "    print(\"all_action_probs:\", all_action_probs)\n",
        "\n",
        "    action_prob = all_action_probs[action]\n",
        "    print(\"action_prob:\", action_prob)\n",
        "\n",
        "    weighted_log_prob = compute_weighted_log_prob(action_prob, reward_to_go)\n",
        "    print(\"weighted_log_prob:\", weighted_log_prob)\n",
        "\n",
        "    loss = -weighted_log_prob\n",
        "\n",
        "    return loss"
      ]
    },
    {
      "cell_type": "code",
      "execution_count": 34,
      "metadata": {
        "id": "7AMJvau1FsM5",
        "colab": {
          "base_uri": "https://localhost:8080/"
        },
        "outputId": "1a563b80-5f9c-4b9c-da29-d67ee74393aa"
      },
      "outputs": [
        {
          "output_type": "stream",
          "name": "stdout",
          "text": [
            "all_action_probs: [0.26894143 0.7310586 ]\n",
            "action_prob: 0.7310586\n",
            "weighted_log_prob: -3.1326165\n",
            "Your implementation looks wrong.\n"
          ]
        }
      ],
      "source": [
        "#@title Проверка упр 9 {display-mode: \"form\"}\n",
        "\n",
        "try:\n",
        "  result = policy_gradient_loss(1, np.array([1,2], \"float32\"), 10)\n",
        "  if result != 3.1326175:\n",
        "    print(\"Your implementation looks wrong.\")\n",
        "  else:\n",
        "    print(\"Looks correct.\")\n",
        "except Exception as e:\n",
        "  print(\"An Error Occured: {}\".format(e))\n"
      ]
    },
    {
      "cell_type": "markdown",
      "metadata": {
        "id": "Gzuqx1jJrwVx"
      },
      "source": [
        "Когда мы делаем шаг обновления градиента политики, мы захотим сделать это, используя пакет опыта, а не просто один опыт, как выше. Мы можем использовать функцию JAX [vmap](https://jax.readthedocs.io/en/latest/_autosummary/jax.vmap.html#jax.vmap), чтобы легко заставить нашу функцию `policy_gradient_loss` работать с пакетом опыта."
      ]
    },
    {
      "cell_type": "code",
      "execution_count": 35,
      "metadata": {
        "id": "3yq4naLURjM4",
        "colab": {
          "base_uri": "https://localhost:8080/"
        },
        "outputId": "37427251-648f-4b30-925d-8b276e11206c"
      },
      "outputs": [
        {
          "output_type": "stream",
          "name": "stdout",
          "text": [
            "all_action_probs: Traced<ShapedArray(float32[2])>with<BatchTrace(level=1/0)> with\n",
            "  val = Array([[0.78713346, 0.21286654],\n",
            "       [0.78713346, 0.21286654],\n",
            "       [0.78713346, 0.21286654]], dtype=float32)\n",
            "  batch_dim = 0\n",
            "action_prob: Traced<ShapedArray(float32[])>with<BatchTrace(level=1/0)> with\n",
            "  val = Array([0.21286654, 0.78713346, 0.78713346], dtype=float32)\n",
            "  batch_dim = 0\n",
            "weighted_log_prob: Traced<ShapedArray(float32[])>with<BatchTrace(level=1/0)> with\n",
            "  val = Array([-3.5583065, -1.0292372, -0.5026507], dtype=float32)\n",
            "  batch_dim = 0\n",
            "Policy gradient loss on batch: 1.6967314\n"
          ]
        }
      ],
      "source": [
        "def batched_policy_gradient_loss(params, obs_batch, action_batch, reward_to_go_batch):\n",
        "    # Get logits by passing observation through network\n",
        "    logits_batch = POLICY_NETWORK.apply(params, obs_batch)\n",
        "\n",
        "    policy_gradient_loss_batch = jax.vmap(policy_gradient_loss)(\n",
        "        action_batch,\n",
        "        logits_batch,\n",
        "        reward_to_go_batch) # add batch\n",
        "\n",
        "    # Compute mean loss over batch\n",
        "    mean_policy_gradient_loss = jnp.mean(policy_gradient_loss_batch)\n",
        "\n",
        "    return mean_policy_gradient_loss\n",
        "\n",
        "# TEST\n",
        "obs_batch = np.ones((3, *obs_shape), \"float32\")\n",
        "actions_batch = np.array([1,0,0])\n",
        "rew2go_batch = np.array([2.3, 4.3, 2.1])\n",
        "\n",
        "loss = batched_policy_gradient_loss(REINFORCE_params, obs_batch, actions_batch, rew2go_batch)\n",
        "\n",
        "print(\"Policy gradient loss on batch:\", loss)"
      ]
    },
    {
      "cell_type": "markdown",
      "metadata": {
        "id": "VDhTH3culwqo"
      },
      "source": [
        "### Оптимизатор сети\n",
        "\n",
        "Чтобы применить обновления градиента политики к нашей нейронной сети, мы будем использовать библиотеку JAX под названием [Optax](https://github.com/deepmind/optax). Optax имеет реализацию [оптимизатора Adam](https://www.geeksforgeeks.org/intuition-of-adam-optimizer/), которую мы можем использовать."
      ]
    },
    {
      "cell_type": "code",
      "execution_count": 36,
      "metadata": {
        "id": "pxXINlMHP5Ic"
      },
      "outputs": [],
      "source": [
        "REINFORCE_OPTIMIZER = optax.adam(1e-3)\n",
        "\n",
        "# Initialise the optimiser\n",
        "REINFORCE_optim_state = REINFORCE_OPTIMIZER.init(REINFORCE_params)"
      ]
    },
    {
      "cell_type": "markdown",
      "metadata": {
        "id": "ViENrHOALbCw"
      },
      "source": [
        "Теперь у нас есть все необходимое для создания функции `REINFORCE_learn`. Мы сохраним состояние оптимизатора в `learn_state`. Мы вычислим градиент потерь градиента политики с помощью  `jax.grad` ([docs](https://jax.readthedocs.io/en/latest/_autosummary/jax.grad.html))."
      ]
    },
    {
      "cell_type": "code",
      "execution_count": 37,
      "metadata": {
        "id": "CQr2Uz5ORjM5"
      },
      "outputs": [],
      "source": [
        "# A NamedTuple to store the state of the optimiser\n",
        "REINFORCELearnState = collections.namedtuple(\"LearnerState\", [\"optim_state\"])\n",
        "\n",
        "\n",
        "def REINFORCE_learn(key, params, learner_state, memory):\n",
        "\n",
        "  # Get the policy gradient by using `jax.grad()` on `batched_policy_gradient_loss`\n",
        "  grad_loss = jax.grad(batched_policy_gradient_loss)(params, memory.obs, memory.action, memory.reward_to_go)\n",
        "\n",
        "  # Get param updates using gradient and optimizer\n",
        "  updates, new_optim_state = REINFORCE_OPTIMIZER.update(grad_loss, learner_state.optim_state)\n",
        "\n",
        "  # Apply updates to params\n",
        "  params = optax.apply_updates(params, updates)\n",
        "\n",
        "  return params, REINFORCELearnState(new_optim_state) # update learner state"
      ]
    },
    {
      "cell_type": "markdown",
      "metadata": {
        "id": "5an3U2NhRKgG"
      },
      "source": [
        "### Цикл обучения REINFORCE\n",
        "Теперь мы можем обучить нашего агента REINFORCE, собрав все воедино с помощью цикла обучения."
      ]
    },
    {
      "cell_type": "code",
      "execution_count": 69,
      "metadata": {
        "id": "vioIcVGsRjM5",
        "colab": {
          "base_uri": "https://localhost:8080/",
          "height": 680
        },
        "outputId": "cbae54e7-f8df-4a96-8f20-d052c8eb41ee"
      },
      "outputs": [
        {
          "output_type": "stream",
          "name": "stdout",
          "text": [
            "Starting training. This may take up to 10 minutes to complete.\n",
            "Episode: 0\tEpisode Return: 12.0\tAverage Episode Return: 12.0\tEvaluator Episode Return: 22.875\n",
            "Episode: 100\tEpisode Return: 84.0\tAverage Episode Return: 38.2\tEvaluator Episode Return: 44.625\n",
            "Episode: 200\tEpisode Return: 79.0\tAverage Episode Return: 138.25\tEvaluator Episode Return: 123.0\n",
            "Episode: 300\tEpisode Return: 171.0\tAverage Episode Return: 145.05\tEvaluator Episode Return: 135.625\n",
            "Episode: 400\tEpisode Return: 200.0\tAverage Episode Return: 195.3\tEvaluator Episode Return: 188.25\n",
            "Episode: 500\tEpisode Return: 183.0\tAverage Episode Return: 199.15\tEvaluator Episode Return: 200.0\n",
            "Episode: 600\tEpisode Return: 200.0\tAverage Episode Return: 198.95\tEvaluator Episode Return: 179.875\n",
            "Episode: 700\tEpisode Return: 198.0\tAverage Episode Return: 170.1\tEvaluator Episode Return: 200.0\n",
            "Episode: 800\tEpisode Return: 200.0\tAverage Episode Return: 200.0\tEvaluator Episode Return: 200.0\n",
            "Episode: 900\tEpisode Return: 200.0\tAverage Episode Return: 200.0\tEvaluator Episode Return: 200.0\n",
            "Episode: 1000\tEpisode Return: 200.0\tAverage Episode Return: 200.0\tEvaluator Episode Return: 200.0\n"
          ]
        },
        {
          "output_type": "display_data",
          "data": {
            "text/plain": [
              "<Figure size 640x480 with 1 Axes>"
            ],
            "image/png": "[encoded data removed]"
          },
          "metadata": {}
        }
      ],
      "source": [
        "# JIT the choose_action and learn functions for more speed\n",
        "REINFORCE_learn_jit = jax.jit(REINFORCE_learn)\n",
        "REINFORCE_choose_action_jit = jax.jit(REINFORCE_choose_action)\n",
        "\n",
        "# Initial learn state\n",
        "REINFORCE_learn_state = REINFORCELearnState(REINFORCE_optim_state)\n",
        "\n",
        "# Run training loop\n",
        "print(\"Starting training. This may take up to 10 minutes to complete.\")\n",
        "episode_returns, evaluator_returns = run_training_loop(\n",
        "                                        env_name,\n",
        "                                        REINFORCE_params,\n",
        "                                        REINFORCE_choose_action_jit,\n",
        "                                        None, # action state not used\n",
        "                                        REINFORCE_learn_jit,\n",
        "                                        REINFORCE_learn_state,\n",
        "                                        REINFORCE_memory,\n",
        "                                        num_episodes=1001,\n",
        "                                        learn_steps_per_episode=2,\n",
        "                                        video_subdir=\"reinforce\"\n",
        "                                      )\n",
        "\n",
        "# Plot the episode returns\n",
        "plt.plot(episode_returns)\n",
        "plt.xlabel(\"Episode\")\n",
        "plt.ylabel(\"Episode Return\")\n",
        "plt.title(\"REINFORCE\")\n",
        "plt.show()\n"
      ]
    },
    {
      "cell_type": "code",
      "execution_count": 70,
      "metadata": {
        "id": "caKL3ngNr_Yh",
        "colab": {
          "base_uri": "https://localhost:8080/",
          "height": 288
        },
        "outputId": "7b745129-9002-40f2-900f-03c7ceabe4f5"
      },
      "outputs": [
        {
          "output_type": "execute_result",
          "data": {
            "text/plain": [
              "<IPython.core.display.HTML object>"
            ],
            "text/html": [
              "\n",
              "<video width=400 controls>\n",
              "      <source src=\"data:video/mp4;base64,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\" type=\"video/mp4\">\n",
              "</video>\n"
            ]
          },
          "metadata": {},
          "execution_count": 70
        }
      ],
      "source": [
        "#@title Визуализация {display-mode: \"form\"}\n",
        "#@markdown Выберите номер эпизода, менее или равного 1000, и **run this cell**.\n",
        "\n",
        "episode_number = 1000 #@param {type:\"number\"}\n",
        "\n",
        "assert (episode_number % 100) == 0, \"Episode number must be a multiple of 100 since we only record every 100th episode.\"\n",
        "assert episode_number < 1001, \"Episode number must be less than or equal to 1000\"\n",
        "\n",
        "eval_episode_number = int(episode_number / 100 * 8)\n",
        "video_path = f\"./video/reinforce/eval/rl-video-episode-{eval_episode_number}.mp4\"\n",
        "\n",
        "mp4 = open(video_path,'rb').read()\n",
        "data_url = \"data:video/mp4;base64,\" + b64encode(mp4).decode()\n",
        "HTML(\"\"\"\n",
        "<video width=400 controls>\n",
        "      <source src=\"%s\" type=\"video/mp4\">\n",
        "</video>\n",
        "\"\"\" % data_url)"
      ]
    },
    {
      "cell_type": "markdown",
      "metadata": {
        "id": "D_HHzFTOc-Qr"
      },
      "source": [
        "## 4. Q-Learning\n",
        "Другим распространенным подходом к поиску оптимальной политики в среде с использованием RL является Q-обучение."
      ]
    },
    {
      "cell_type": "markdown",
      "metadata": {
        "id": "lF1nOZrUSzhE"
      },
      "source": [
        "### Функция значения состояния-действия\n",
        "В Q-обучении агент изучает функцию, которая аппроксимирует **значение** пар состояние-действие. Под *значением* мы подразумеваем отдачу, которую вы ожидаете получить, если начнете в определенном состоянии $s_t$, выполните определенное действие $a_t$, а затем будете действовать в соответствии с определенной политикой $\\pi$ навсегда. Функция значения состояния-действия политики $\\pi$ задается как\n",
        "\n",
        "$Q_\\pi(s,a)=\\mathrm{E}_{\\tau\\sim\\pi}\\left[R(\\tau) \\mid s_0=s,\\ a_t=a\\right]$.\n",
        "\n",
        "Мы говорим, что функция значения $Q_\\pi(s,a)$ является **оптимальной** функцией значения, если политика $\\pi$ является оптимальной политикой. Обозначим функцию оптимального значения следующим образом:\n",
        "\n",
        "$Q_\\ast(s,a)=\\max \\limits_\\pi \\ \\mathrm{E}_{\\tau\\sim\\pi}\\left[R(\\tau) \\mid s_0=s,\\ a_0=a\\right]$\n",
        "\n",
        "Существует важная связь между оптимальным действием $a_\\ast$ в состоянии $s$ и оптимальной функцией значения состояния-действия $Q_\\ast$. А именно, оптимальное действие $a_\\ast$ в состоянии $s$ равно действию, которое максимизирует оптимальную функцию значения состояния-действия. Эта связь естественным образом индуцирует оптимальную политику:\n",
        "\n",
        "$\\pi_\\ast(s)=\\arg \\max \\limits_a\\ Q_\\ast(s, a)$"
      ]
    },
    {
      "cell_type": "markdown",
      "metadata": {
        "id": "H2x2tqvZSihz"
      },
      "source": [
        "### Greedy action selection (Жадный выбор действия)\n",
        "\n",
        "**Упражнение 10:** Давайте реализуем функцию, которая, учитывая вектор Q-значений, возвращает действие с наибольшим Q-значением (т. е. жадное действие).\n",
        "\n",
        "**Useful methods:**\n",
        "*   `jax.numpy.argmax` ([docs](https://jax.readthedocs.io/en/latest/_autosummary/jax.numpy.argmax.html))"
      ]
    },
    {
      "cell_type": "code",
      "execution_count": 40,
      "metadata": {
        "id": "Nn9P1YdzTIDU"
      },
      "outputs": [],
      "source": [
        "# Implement a function takes q-values as input and returns the greedy_action\n",
        "def select_greedy_action(q_values):\n",
        "\n",
        "  # YOUR CODE\n",
        "  action = jnp.argmax(q_values)\n",
        "  # END YOUR CODE\n",
        "\n",
        "  return action"
      ]
    },
    {
      "cell_type": "code",
      "execution_count": 41,
      "metadata": {
        "id": "ZBzLr_G7QKXR",
        "colab": {
          "base_uri": "https://localhost:8080/"
        },
        "outputId": "4a87ae85-61a7-42c6-dbd6-0956e02bf812"
      },
      "outputs": [
        {
          "output_type": "stream",
          "name": "stdout",
          "text": [
            "Looks good.\n"
          ]
        }
      ],
      "source": [
        "# @title Проверка упр 10 (run me) {display-mode: \"form\"}\n",
        "\n",
        "try:\n",
        "  q_values = jnp.array([1,1,3,4])\n",
        "  action = select_greedy_action(q_values)\n",
        "\n",
        "  if action != 3:\n",
        "    print(\"Incorrect answer, your greedy action selector looks wrong\")\n",
        "  else:\n",
        "    print(\"Looks good.\")\n",
        "except Exception as e:\n",
        "  print(\"An Error Occured: {}\".format(e))\n"
      ]
    },
    {
      "cell_type": "markdown",
      "metadata": {
        "id": "PFQUlqZ4ZyLp"
      },
      "source": [
        "### Q-Network\n",
        "В отличие от подхода с градиентом политики из предыдущего раздела, в Q-обучении и других методах RL на основе значений нам не нужна параметризация для политики, вместо этого мы параметризуем Q-функцию с помощью нейронной сети $Q_\\theta$. Мы получаем политику из Q-сети, всегда выбирая действие с *наибольшим* значением:\n",
        "\n",
        "$\\hat{\\pi}_\\theta(s)=\\arg \\max \\limits_a\\ Q_{\\theta}(s, a)$\n",
        "\n",
        "Как и ранее, мы будем использовать хайку для создания нейронной сети для аппроксимации этой Q-функции. Сеть будет принимать наблюдение в качестве входных данных, а затем выводить Q-значение для каждого из доступных действий. Таким образом, в случае CartPole выход сети будет иметь размер $2$."
      ]
    },
    {
      "cell_type": "code",
      "execution_count": 42,
      "metadata": {
        "id": "9wU1soJYZyLp"
      },
      "outputs": [],
      "source": [
        "def build_network(num_actions: int, layers=[20, 20]) -> hk.Transformed:\n",
        "  \"\"\"Factory for a simple MLP network for approximating Q-values.\"\"\"\n",
        "\n",
        "  def q_network(obs):\n",
        "    network = hk.Sequential(\n",
        "        [hk.Flatten(),\n",
        "         hk.nets.MLP(layers + [num_actions])])\n",
        "    return network(obs)\n",
        "\n",
        "  return hk.without_apply_rng(hk.transform(q_network))"
      ]
    },
    {
      "cell_type": "markdown",
      "metadata": {
        "id": "sUwG-4qTS1zx"
      },
      "source": [
        "Давайте инициализируем нашу Q-сеть и получим начальные параметры."
      ]
    },
    {
      "cell_type": "code",
      "execution_count": 43,
      "metadata": {
        "id": "1uvq5n2cS9lu",
        "colab": {
          "base_uri": "https://localhost:8080/"
        },
        "outputId": "95dba7b6-c55c-4968-f9b4-cf488cb63229"
      },
      "outputs": [
        {
          "output_type": "stream",
          "name": "stdout",
          "text": [
            "Q-Learning params: dict_keys(['mlp/~/linear_0', 'mlp/~/linear_1', 'mlp/~/linear_2'])\n"
          ]
        }
      ],
      "source": [
        "# Initialise Q-network\n",
        "Q_NETWORK = build_network(num_actions=num_actions, layers=[20, 20]) # two actions\n",
        "\n",
        "dummy_obs = jnp.zeros((1,*obs_shape), jnp.float32) # a dummy observation like the one in CartPole\n",
        "\n",
        "random_key = jax.random.PRNGKey(42) # random key\n",
        "Q_NETWORK_PARAMS = Q_NETWORK.init(random_key, dummy_obs) # Get initial params\n",
        "\n",
        "print(\"Q-Learning params:\", Q_NETWORK_PARAMS.keys())"
      ]
    },
    {
      "cell_type": "markdown",
      "metadata": {
        "id": "iqCUeZfhEfyP"
      },
      "source": [
        "Прежде чем мы реализуем функцию потерь, необходимую для обучения нашей Q-сети, давайте сначала обсудим интуицию, стоящую за ней."
      ]
    },
    {
      "cell_type": "markdown",
      "metadata": {
        "id": "vbLig3uSZyLp"
      },
      "source": [
        "### The Bellman Equations (Уравнения Беллмана)\n",
        "Функция значения может быть записана рекурсивно как:\n",
        "\n",
        "$Q_{\\pi}(s, a) =\\underset{s^{\\prime} \\sim P}{\\mathrm{E}}\\left[r(s, a)+ \\underset{a^{\\prime} \\sim \\pi}{\\mathrm{E}}\\left[Q_{\\pi}\\left(s^{\\prime}, a^{\\prime}\\right)\\right]\\right]$,\n",
        "\n",
        "где $s' \\sim P$ — это сокращение для обозначения того, что следующее состояние $s'$ выбирается из функции перехода среды $P(s'\\mid s,a)$. Интуитивно это уравнение говорит, что ценность действия $a$, которое вы предприняли в состоянии $s$, равна вознаграждению $r$, которое вы ожидаете получить, плюс ценность, которую вы ожидаете получить в следующем состоянии $s`$, в котором вы окажетесь, при условии, что вы выберете свое следующее действие $a`$ с политикой $\\pi$. Уравнение Беллмана для оптимальной функции ценности выглядит так:\n",
        "\n",
        "$Q_{*}(s, a) =\\underset{s^{\\prime} \\sim P}{\\mathrm{E}}\\left[r(s, a)+\\ \\underset{a^{\\prime}}{\\max}\\ Q_{*}(s^{\\prime}, a^{\\prime})\\right]$\n",
        "\n",
        "Обратите внимание, что вместо выбора вашего следующего действия $a`$ с политикой $\\pi$ мы выбираем действие с наибольшим значением Q.\n",
        "\n",
        "Более подробное обсуждение уравнений Беллмана можно найти на сайте [OpenAI Spinning Up](https://spinningup.openai.com/en/latest/spinningup/rl_intro.html)."
      ]
    },
    {
      "cell_type": "markdown",
      "metadata": {
        "id": "DsOJi5G8ZyLp"
      },
      "source": [
        "### The Bellman Backup (Резервное копирование Беллмана)\n",
        "\n",
        "Чтобы научиться аппроксимировать оптимальную функцию Q-значения, мы можем использовать правую часть уравнения Беллмана в качестве правила обновления. Другими словами, предположим, что у нас есть Q-сеть $Q_\\theta$, аппроксимированная с использованием параметров $\\theta$, тогда мы можем итеративно обновлять параметры таким образом, что\n",
        "\n",
        "$Q_\\theta(s,a)\\leftarrow r(s, a) + \\underset{a'}{\\max}\\ Q_\\theta(s', a')$.\n",
        "\n",
        "Интуитивно это означает, что аппроксимация Q-значения действия $a$ в состоянии $s$ должна быть обновлена ​​таким образом, чтобы она была ближе к равной вознаграждению, полученному от среды $r(s, a)$, плюс значение наилучшего возможного действия в следующем состоянии $s'$. Мы можем выполнить эту оптимизацию, минимизируя разницу между левой и правой частью относительно параметров $\\theta$, используя градиентный спуск. Мы можем измерить разницу между двумя значениями, используя [квадратичную ошибку](https://en.wikipedia.org/wiki/Mean_squared_error#Loss_function).\n",
        "\n",
        "**Упражнение 11:** Реализуйте функцию квадратичной ошибки.\n",
        "\n",
        "**Полезные функции**\n",
        "* `jax.numpy.square` ([docs](https://jax.readthedocs.io/en/latest/_autosummary/jax.numpy.square.html))"
      ]
    },
    {
      "cell_type": "code",
      "execution_count": 44,
      "metadata": {
        "id": "PTto__ohZyLp"
      },
      "outputs": [],
      "source": [
        "def compute_squared_error(pred, target):\n",
        "  # YOUR CODE\n",
        "  squared_error = jnp.square(pred - target)\n",
        "  # END YOUR CODE\n",
        "\n",
        "  return squared_error"
      ]
    },
    {
      "cell_type": "code",
      "execution_count": 45,
      "metadata": {
        "id": "wGhX8XTFVPVU",
        "colab": {
          "base_uri": "https://localhost:8080/"
        },
        "outputId": "0e77a67a-123b-42a9-adbd-3cb117ef5af6"
      },
      "outputs": [
        {
          "output_type": "stream",
          "name": "stdout",
          "text": [
            "Looks good.\n"
          ]
        }
      ],
      "source": [
        "#@title Проверка упр 11 {display-mode: \"form\"}\n",
        "\n",
        "try:\n",
        "  result = compute_squared_error(1, 4)\n",
        "\n",
        "  if result != 9:\n",
        "    print(\"Your implementation looks wrong.\")\n",
        "  else:\n",
        "    print(\"Looks good.\")\n",
        "except Exception as e:\n",
        "  print(\"An Error Occured: {}\".format(e))"
      ]
    },
    {
      "cell_type": "markdown",
      "metadata": {
        "id": "ycpZVkgdZyLp"
      },
      "source": [
        "**Упражнение 12:** Реализуйте функцию, которая вычисляет **цель Беллмана** (правая часть уравнения Беллмана). Если эпизод находится на последнем временном шаге (т. е. done==1.0), то цель Беллмана должна быть равна награде, без дополнительного значения в конце.\n",
        "\n",
        "**Полезные функции**\n",
        "* `jax.numpy.max` ([docs](https://jax.readthedocs.io/en/latest/_autosummary/jax.numpy.max.html))"
      ]
    },
    {
      "cell_type": "code",
      "execution_count": 46,
      "metadata": {
        "id": "961_OllWZyLp"
      },
      "outputs": [],
      "source": [
        "# Bellman target\n",
        "def compute_bellman_target(reward, done, next_q_values):\n",
        "  \"\"\"A function to compute the bellman target.\n",
        "\n",
        "  Args:\n",
        "      reward: a scalar reward.\n",
        "      done: a scalar of value either 1.0 or 0.0, indicating if the transition is a terminal one.\n",
        "      next_q_values: a vector of q_values for the next state. One for each action.\n",
        "  Returns:\n",
        "      A scalar equal to the bellman target.\n",
        "\n",
        "  \"\"\"\n",
        "  # YOUR CODE\n",
        "  bellman_target = reward +  jnp.max(next_q_values) * (1.0 - done)\n",
        "  # END YOUR CODE\n",
        "\n",
        "  return bellman_target"
      ]
    },
    {
      "cell_type": "code",
      "execution_count": 47,
      "metadata": {
        "id": "E5RAhegOWAkC",
        "colab": {
          "base_uri": "https://localhost:8080/"
        },
        "outputId": "93df7507-20c7-41a1-cf30-f9b9cd2596b7"
      },
      "outputs": [
        {
          "output_type": "stream",
          "name": "stdout",
          "text": [
            "Looks good.\n"
          ]
        }
      ],
      "source": [
        "#@title Проверка упр 12 {display-mode: \"form\"}\n",
        "\n",
        "try:\n",
        "  # not done\n",
        "  result1 = compute_bellman_target(1, 0.0, np.array([3,2], \"float32\"))\n",
        "\n",
        "  # done\n",
        "  result2 = compute_bellman_target(1, 1.0, np.array([3,2], \"float32\"))\n",
        "\n",
        "  if result1 != 4 or result2 != 1:\n",
        "    print(\"Your implementation looks wrong.\")\n",
        "  else:\n",
        "    print(\"Looks good.\")\n",
        "except Exception as e:\n",
        "  print(\"An Error Occured: {}\".format(e))"
      ]
    },
    {
      "cell_type": "markdown",
      "metadata": {
        "id": "8sIjrHSJZyLq"
      },
      "source": [
        "Теперь мы можем объединить эти две функции, чтобы вычислить потерю для Q-обучения. Потери Q-обучения равны квадрату разницы между прогнозируемым значением Q действия и его соответствующей целью Беллмана.\n",
        "\n",
        "**Упражнение 13:** Реализуйте функцию потери Q-обучения."
      ]
    },
    {
      "cell_type": "code",
      "execution_count": 48,
      "metadata": {
        "id": "LJY_kpFcZyLq"
      },
      "outputs": [],
      "source": [
        "def q_learning_loss(q_values, action, reward, done, next_q_values):\n",
        "    \"\"\"Implementation of the Q-learning loss.T\n",
        "\n",
        "    Args:\n",
        "        q_values: a vector of Q-values, one for each action.\n",
        "        action: an integer, giving the action that was chosen. q_values[action] is the value of the chose action.\n",
        "        done: is a scalar that indicates if this is a terminal transition.\n",
        "        next_q_values: a vector of Q-values in the next state.\n",
        "    Returns:\n",
        "        The squared difference between the q_value of the chosen action and the bellman target.\n",
        "    \"\"\"\n",
        "    # YOUR CODE\n",
        "    chosen_action_q_value =  q_values[action] # q_value of action, use array indexing\n",
        "    bellman_target = compute_bellman_target(reward, done, next_q_values)\n",
        "    squared_error = compute_squared_error(chosen_action_q_value, bellman_target)\n",
        "    # END YOUR CODE\n",
        "\n",
        "    return squared_error"
      ]
    },
    {
      "cell_type": "code",
      "execution_count": 49,
      "metadata": {
        "id": "1aZRn1qaWx2M",
        "colab": {
          "base_uri": "https://localhost:8080/"
        },
        "outputId": "d3989e08-f8f0-4e4e-de8a-f97c8cbe3dfc"
      },
      "outputs": [
        {
          "output_type": "stream",
          "name": "stdout",
          "text": [
            "Looks good.\n"
          ]
        }
      ],
      "source": [
        "#@title Проверка упр 13 {display-mode: \"form\"}\n",
        "\n",
        "try:\n",
        "  result = q_learning_loss(np.array([3,2], \"float32\"), 1, 2, 0.0, np.array([3,2], \"float32\"))\n",
        "\n",
        "  if result != 9.0:\n",
        "    print(\"Your implementation looks wrong.\")\n",
        "  else:\n",
        "    print(\"Looks good.\")\n",
        "except Exception as e:\n",
        "  print(\"An Error Occured: {}\".format(e))"
      ]
    },
    {
      "cell_type": "markdown",
      "metadata": {
        "id": "b4YnSUfJZyLq"
      },
      "source": [
        "### Target Q-network (Целевая Q-сеть)\n",
        "Обратите внимание: когда мы вычисляем цель Беллмана, мы используем нашу Q-сеть $Q_\\theta$ для вычисления значения для следующего состояния $s_t$. По сути, мы используем наше последнее приближение Q-функции для вычисления цели нашего следующего приближения. Использование приближения для вычисления цели для вашего следующего приближения называется самозагрузкой. К сожалению, если мы наивно делаем такую ​​самозагрузку, это может сделать обучение нейронной сети очень нестабильным. Чтобы смягчить это, мы можем вместо этого использовать другой набор параметров $\\hat{\\theta}$ для вычисления значений в состоянии $s_{t+1}$. Мы будем сохранять параметры $\\hat{\\theta}$ фиксированными и только периодически обновлять их, чтобы они были равны последним онлайн-параметрам $\\theta$ каждые пару шагов обучения *(скажем, 100)*. Это позволяет сохранять фиксированные цели Беллмана для пары шагов обучения, чтобы помочь снизить нестабильность из-за самозагрузки.\n",
        "\n",
        "Нам нужно будет отслеживать последние (онлайн) параметры, а также параметры целевых сетей. Давайте создадим `NamedTuple` для хранения этих двух значений. Нам также нужно будет отслеживать количество шагов обучения, которые мы сделали, чтобы знать, когда обновлять целевую сеть. Давайте сохраним `count` шагов обучения в `learn_state`."
      ]
    },
    {
      "cell_type": "code",
      "execution_count": 50,
      "metadata": {
        "id": "DvZqUKmq6L7k"
      },
      "outputs": [],
      "source": [
        "# Store online and target parameters\n",
        "QLearnParams = collections.namedtuple(\"Params\", [\"online\", \"target\"])\n",
        "\n",
        "# Q-learn-state\n",
        "QLearnState = collections.namedtuple(\"LearnerState\", [\"count\", \"optim_state\"])"
      ]
    },
    {
      "cell_type": "markdown",
      "metadata": {
        "id": "CJWH2_kNZsau"
      },
      "source": [
        "Мы снова будем использовать Optax для оптимизации нашей нейронной сети в JAX. Мы сохраняем состояние оптимизатора в `learn_state` выше. Давайте теперь создадим экземпляр оптимизатора и добавим начальные параметры Q-сети в объект `QLearnParams`."
      ]
    },
    {
      "cell_type": "code",
      "execution_count": 51,
      "metadata": {
        "id": "HwqKTN6BaAXE"
      },
      "outputs": [],
      "source": [
        "# Initialise Q-network optimizer\n",
        "Q_LEARN_OPTIMIZER = optax.adam(3e-4) # learning rate\n",
        "\n",
        "Q_LEARN_OPTIM_STATE = Q_LEARN_OPTIMIZER.init(Q_NETWORK_PARAMS) # initial optim state\n",
        "\n",
        "# Create Learn State\n",
        "Q_LEARNING_LEARN_STATE = QLearnState(0, Q_LEARN_OPTIM_STATE) # count set to zero initially\n",
        "\n",
        "# Add initial Q-network weights to QLearnParams object\n",
        "Q_LEARNING_PARAMS = QLearnParams(online=Q_NETWORK_PARAMS, target=Q_NETWORK_PARAMS) # target equal to online"
      ]
    },
    {
      "cell_type": "markdown",
      "metadata": {
        "id": "xj89M8LgZlFe"
      },
      "source": [
        "Теперь мы можем реализовать простую функцию, которая обновляет параметры целевых сетей, чтобы они соответствовали последним онлайн-параметрам каждые 100 шагов обучения."
      ]
    },
    {
      "cell_type": "code",
      "execution_count": 52,
      "metadata": {
        "id": "SKrg_3rO6cCL"
      },
      "outputs": [],
      "source": [
        "def update_target_params(learn_state, online_weights, target_weights):\n",
        "  \"\"\"A function to update target params every 100 training steps\"\"\"\n",
        "\n",
        "  target = jax.lax.cond(\n",
        "      jax.numpy.mod(learn_state.count, 100) == 0,\n",
        "      lambda x, y: x,\n",
        "      lambda x, y: y,\n",
        "      online_weights,\n",
        "      target_weights\n",
        "  )\n",
        "\n",
        "  params = QLearnParams(online_weights, target)\n",
        "\n",
        "  return params"
      ]
    },
    {
      "cell_type": "markdown",
      "metadata": {
        "id": "KoiaYSo9ZyLq"
      },
      "source": [
        "### Q-learning loss (Функция потери Q-обучения)\n",
        "Теперь у нас есть все необходимое для реализации функции `q_learn`, которая принимает некоторую партию переходов и выполняет шаг Q-обучения для обновления параметров сети. Но сначала мы используем `jax.vmap` для изменения функции `q_learning_loss` так, чтобы она принимала партии переходов. Кроме того, мы вычислим Q-значения, передавая наблюдения через `Q_NETWORK`, и целевые Q-значения, используя целевые параметры `Q_NETWORK`."
      ]
    },
    {
      "cell_type": "code",
      "execution_count": 53,
      "metadata": {
        "id": "hnrsGppWZyLq"
      },
      "outputs": [],
      "source": [
        "def batched_q_learning_loss(online_params, target_params, obs, actions, rewards, next_obs, dones):\n",
        "    q_values = Q_NETWORK.apply(online_params, obs) # use the online parameters\n",
        "    next_q_values = Q_NETWORK.apply(target_params, next_obs) # use the target parameters\n",
        "    squared_error = jax.vmap(q_learning_loss)(q_values, actions, rewards, dones, next_q_values) # vmap q_learning_loss\n",
        "    mean_squared_error = jnp.mean(squared_error) # mean squared error over batch\n",
        "    return mean_squared_error"
      ]
    },
    {
      "cell_type": "markdown",
      "metadata": {
        "id": "CU8vo9ZebnEa"
      },
      "source": [
        "Теперь мы можем создать функцию `q_learn`, которая вычисляет градиент `batched_q_learning_loss`, а затем использует оптимизатор Optax для обновления весов сети, а затем, наконец (возможно), обновляет целевые параметры."
      ]
    },
    {
      "cell_type": "code",
      "execution_count": 54,
      "metadata": {
        "id": "6BYoX2W_ZyLr"
      },
      "outputs": [],
      "source": [
        "def q_learn(rng, params, learner_state, memory):\n",
        "  # Compute gradients\n",
        "  grad_loss = jax.grad(batched_q_learning_loss)(params.online, params.target, memory.obs,\n",
        "                                          memory.action, memory.reward,\n",
        "                                          memory.next_obs, memory.done,\n",
        "                                          ) # jax.grad\n",
        "\n",
        "  # Get updates\n",
        "  updates, opt_state = Q_LEARN_OPTIMIZER.update(grad_loss, learner_state.optim_state)\n",
        "\n",
        "  # Apply them\n",
        "  new_weights = optax.apply_updates(params.online, updates)\n",
        "\n",
        "  # Maybe update target network\n",
        "  params = update_target_params(learner_state, new_weights, params.target)\n",
        "\n",
        "  # Increment learner step counter\n",
        "  learner_state = QLearnState(learner_state.count + 1, opt_state)\n",
        "\n",
        "  return params, learner_state"
      ]
    },
    {
      "cell_type": "markdown",
      "metadata": {
        "id": "VpZsKHssZyLq"
      },
      "source": [
        "### Replay Buffer (Буфер воспроизведения)\n",
        "Для Q-обучения нам понадобится память агента, которая хранит целые переходы: `obs`, `action`, `reward`, `next_obs`, `done`. Когда мы извлекаем переходы из памяти, они должны выбираться случайным образом из всех переходов, собранных до сих пор. В RL мы часто называем такой модуль **буфером воспроизведения**.\n",
        "\n",
        "Одним из преимуществ использования такого буфера воспроизведения является то, что опыт можно повторно использовать несколько раз для обучения, в отличие от алгоритма градиента политики REINFORCE, где мы отбрасывали воспоминания после их использования для обучения."
      ]
    },
    {
      "cell_type": "code",
      "execution_count": 55,
      "metadata": {
        "id": "8tv5dUH6ZyLr"
      },
      "outputs": [],
      "source": [
        "class TransitionMemory(object):\n",
        "  \"\"\"A simple Python replay buffer.\"\"\"\n",
        "\n",
        "  def __init__(self, max_size=10_000, batch_size=256):\n",
        "    self.batch_size = batch_size\n",
        "    self.buffer = collections.deque(maxlen=max_size)\n",
        "\n",
        "  def push(self, transition):\n",
        "\n",
        "    # add transition to the replay buffer\n",
        "    self.buffer.append(\n",
        "        (transition.obs, transition.action, transition.reward,\n",
        "          transition.next_obs, transition.done)\n",
        "    )\n",
        "\n",
        "\n",
        "  def is_ready(self):\n",
        "    return self.batch_size <= len(self.buffer)\n",
        "\n",
        "  def sample(self):\n",
        "    # Randomly sample a batch of transitions from the buffer\n",
        "    random_replay_sample = random.sample(self.buffer, self.batch_size)\n",
        "\n",
        "    # Batch the transitions together\n",
        "    obs_batch, action_batch, reward_batch, next_obs_batch, done_batch = zip(*random_replay_sample)\n",
        "\n",
        "    return Transition(\n",
        "        np.stack(obs_batch).astype(\"float32\"),\n",
        "        np.asarray(action_batch).astype(\"int32\"),\n",
        "        np.asarray(reward_batch).astype(\"float32\"),\n",
        "        np.stack(next_obs_batch).astype(\"float32\"),\n",
        "        np.asarray(done_batch).astype(\"float32\")\n",
        "    )\n",
        "\n",
        "# Instantiate the memory\n",
        "Q_LEARNING_MEMORY = TransitionMemory(max_size=50_000, batch_size=256)"
      ]
    },
    {
      "cell_type": "markdown",
      "metadata": {
        "id": "XbHk03VVUHAV"
      },
      "source": [
        "### Случайное исследование\n",
        "У нас почти есть все, что нужно для функционирующего агента Q-обучения. Но одна проблема заключается в том, что если мы всегда выбираем действие с наивысшим значением Q, то политика агента будет полностью [детерминированной](https://www.quora.com/What-is-the-intuitive-difference-between-a-stochastic-model-and-a-deterministic-model). Это означает, что агент всегда будет выбирать одну и ту же стратегию. Это может представлять проблему, поскольку в начале обучения Q-сеть будет очень неточной (т. е. плохой аппроксимацией истинной Q-функции). Таким образом, агент будет последовательно выбирать неоптимальные действия. Более того, агент никогда не отклонится от своей неоптимальной стратегии и никогда не обнаружит новые, потенциально более полезные действия. В результате Q-сеть остается неточной. В идеале агент должен опробовать много разных стратегий, чтобы он мог наблюдать результаты (вознаграждения) своих действий в разных состояниях и таким образом улучшить приближение Q-функции.\n",
        "\n",
        "Один простой способ гарантировать, что агент опробует много разных действий, — позволить ему периодически выбирать некоторые случайные действия вместо жадного (лучшего) действия все время.\n",
        "\n",
        "**Упражнение 14:** Реализуйте функцию, которая, учитывая количество возможных (дискретных) действий, возвращает случайное действие.\n",
        "\n",
        "**Полезные методы:**\n",
        "\n",
        "*  `jax.random.randint` ([docs](https://jax.readthedocs.io/en/latest/_autosummary/jax.random.randint.html))"
      ]
    },
    {
      "cell_type": "code",
      "execution_count": 56,
      "metadata": {
        "id": "uUKkpMLXUtko"
      },
      "outputs": [],
      "source": [
        "def select_random_action(key, num_actions):\n",
        "\n",
        "    # YOUR CODE\n",
        "    action = jax.random.randint(key, minval=0, maxval=num_actions, shape=())\n",
        "    # END YOUR CODE\n",
        "\n",
        "    return action"
      ]
    },
    {
      "cell_type": "code",
      "execution_count": 57,
      "metadata": {
        "id": "NO6va6S2Y40E",
        "colab": {
          "base_uri": "https://localhost:8080/"
        },
        "outputId": "579b4d48-8c3e-41b5-8cfb-5f3acd3486b6"
      },
      "outputs": [
        {
          "output_type": "stream",
          "name": "stdout",
          "text": [
            "Looks good.\n"
          ]
        }
      ],
      "source": [
        "#@title Проверка упр 14 {display-mode: \"form\"}\n",
        "\n",
        "try:\n",
        "  random_key1 = random_key = jax.random.PRNGKey(6) # random key\n",
        "  random_key2 = random_key = jax.random.PRNGKey(1000) # random key\n",
        "  result1 = select_random_action(random_key1, 2)\n",
        "  result2 = select_random_action(random_key2, 2)\n",
        "\n",
        "  if result1 != 1 or result2 != 0:\n",
        "    print(\"Your implementation looks wrong.\")\n",
        "  else:\n",
        "    print(\"Looks good.\")\n",
        "except:\n",
        "  print(\"Your implementation looks wrong.\")"
      ]
    },
    {
      "cell_type": "markdown",
      "metadata": {
        "id": "8-kKDFT6XU6y"
      },
      "source": [
        "### $\\varepsilon$-greedy action selection (эпсилон жадный выбор действия)\n",
        "В начале обучения, когда точность Q-сети низкая, агенту стоит в основном совершать случайные действия, чтобы он мог узнать, насколько хороши/плохи действия. Однако по мере повышения точности Q-сети агент должен начать совершать меньше случайных действий и вместо этого начать выбирать жадные действия относительно Q-значений. Выбор лучших действий с учетом текущей Q-сети называется **эксплуатацией**. В RL мы часто называем отношение случайных и жадных действий **эпсилоном** $\\varepsilon$. Эпсилон обычно представляет собой десятичное значение в интервале $[0,1]$, где, например, $\\varepsilon=0.4$ означает, что агент выбирает случайное действие в 40% случаев, а жадное действие — в 60% случаев. В RL принято линейно уменьшать значение эпсилон с течением времени, так что агент становится все более жадным по мере повышения точности его Q-сети в процессе обучения.\n",
        "\n",
        "**Упражнение 15:** Реализуйте функцию, которая принимает количество временных шагов в качестве входных данных и возвращает текущее значение эпсилон."
      ]
    },
    {
      "cell_type": "code",
      "execution_count": 58,
      "metadata": {
        "id": "_qejnbCocurG"
      },
      "outputs": [],
      "source": [
        "EPSILON_DECAY_TIMESTEPS = 3000 # decay epsilon over 3000 timesteps\n",
        "EPSILON_MIN = 0.1 # 10% exploration"
      ]
    },
    {
      "cell_type": "code",
      "execution_count": 59,
      "metadata": {
        "id": "5ujSbssCZyLs"
      },
      "outputs": [],
      "source": [
        "import jax.numpy as jnp\n",
        "import jax.lax\n",
        "def get_epsilon(num_timesteps):\n",
        "  # YOUR CODE\n",
        "  epsilon = 1.0 - (num_timesteps/EPSILON_DECAY_TIMESTEPS) # decay epsilon\n",
        "\n",
        "  epsilon = jax.lax.select(\n",
        "      epsilon < EPSILON_MIN,\n",
        "      EPSILON_MIN, # if less than min then set to min\n",
        "      epsilon # else don't change epsilon\n",
        "  )\n",
        "  # END YOUR CODE\n",
        "\n",
        "  return epsilon"
      ]
    },
    {
      "cell_type": "code",
      "execution_count": 60,
      "metadata": {
        "id": "hvu4zA64aUou",
        "colab": {
          "base_uri": "https://localhost:8080/"
        },
        "outputId": "64ad9af8-df07-4b5e-bda3-a8474aa7ee2c"
      },
      "outputs": [
        {
          "output_type": "stream",
          "name": "stdout",
          "text": [
            "Your function looks correct.\n"
          ]
        }
      ],
      "source": [
        "#@title Проверка упр 15 {display-mode: \"form\"}\n",
        "def check_get_epsilon(get_epsilon):\n",
        "  try:\n",
        "    result1 = get_epsilon(10)\n",
        "    result2 = get_epsilon(5_010)\n",
        "\n",
        "    if result1 != 0.99666667 or result2 != 0.1:\n",
        "      print(\"Your function looks wrong.\")\n",
        "    else:\n",
        "      print(\"Your function looks correct.\")\n",
        "  except:\n",
        "    print(\"Your function looks wrong.\")\n",
        "\n",
        "check_get_epsilon(get_epsilon)\n"
      ]
    },
    {
      "cell_type": "markdown",
      "metadata": {
        "id": "t56oo58TVQ_s"
      },
      "source": [
        "**Упражнение 16:** Теперь давайте объединим эти функции для выполнения эпсилон-жадного выбора действия."
      ]
    },
    {
      "cell_type": "code",
      "execution_count": 61,
      "metadata": {
        "id": "NlQx8K4vKUXj"
      },
      "outputs": [],
      "source": [
        "def select_epsilon_greedy_action(key, q_values, num_timesteps):\n",
        "    num_actions = len(q_values) # number of available actions\n",
        "\n",
        "    # YOUR CODE HERE\n",
        "    epsilon = get_epsilon(num_timesteps) # get epsilon value\n",
        "\n",
        "    should_explore = jax.random.uniform(key, shape=()) < epsilon # hint: a boolean expression to check if some random number is less than epsilon\n",
        "\n",
        "    explore_action = select_random_action(key, num_actions)\n",
        "    greedy_action = jax.numpy.argmax(q_values)\n",
        "\n",
        "    action = jax.lax.select(\n",
        "        should_explore,\n",
        "        explore_action, # if should explore\n",
        "        greedy_action # if should be greedy\n",
        "    )\n",
        "    # END YOUR CODE\n",
        "\n",
        "    return action"
      ]
    },
    {
      "cell_type": "code",
      "execution_count": 62,
      "metadata": {
        "id": "mkVU2a5e7P6b",
        "colab": {
          "base_uri": "https://localhost:8080/"
        },
        "outputId": "fa03b415-c877-46c8-a429-b8557c2a40d9"
      },
      "outputs": [
        {
          "output_type": "stream",
          "name": "stdout",
          "text": [
            "Looks correct!\n"
          ]
        }
      ],
      "source": [
        "#@title Проверка упражнения 16 {display-mode: \"form\"}\n",
        "\n",
        "try:\n",
        "  rng = hk.PRNGSequence(jax.random.PRNGKey(42))\n",
        "  dummy_q_values = jnp.array([0,1], jnp.float32)\n",
        "  num_timesteps = 5010 # very greedy\n",
        "  actions1 = []\n",
        "  for i in range(10):\n",
        "      actions1.append(int(select_epsilon_greedy_action(next(rng), dummy_q_values, num_timesteps)))\n",
        "\n",
        "  num_timesteps = 0 # completly random\n",
        "  actions2 = []\n",
        "  for i in range(10):\n",
        "      actions2.append(int(select_epsilon_greedy_action(next(rng), dummy_q_values, num_timesteps)))\n",
        "\n",
        "  if actions1 != [1, 1, 0, 1, 1, 0, 1, 1, 1, 1] or actions2 != [0, 0, 0, 1, 1, 1, 1, 0, 0, 0]:\n",
        "    print(\"Looks like something might be incorrect!\")\n",
        "  else:\n",
        "    print(\"Looks correct!\")\n",
        "except:\n",
        "  print(\"Looks like something might be incorrect!\")"
      ]
    },
    {
      "cell_type": "markdown",
      "metadata": {
        "id": "y5W23MnobN9x"
      },
      "source": [
        "### Действие выбора Q-learning\n",
        "\n",
        "Теперь у нас есть все необходимое для создания функции `q_learning_select_action`. Мы будем использовать `actor_state` для хранения счетчика, который отслеживает текущее количество временных шагов. Мы можем использовать счетчик для уменьшения нашего значения `epsilon`."
      ]
    },
    {
      "cell_type": "code",
      "execution_count": 63,
      "metadata": {
        "id": "81TysLc0RjM6"
      },
      "outputs": [],
      "source": [
        "# Actor state stores the current number of timesteps\n",
        "QActorState = collections.namedtuple(\"ActorState\", [\"count\"])\n",
        "\n",
        "def q_learning_select_action(key, params, actor_state, obs, evaluation=False):\n",
        "    obs = jnp.expand_dims(obs, axis=0) # add dummy batch dim\n",
        "    q_values = Q_NETWORK.apply(params.online, obs)[0] # remove batch dim\n",
        "\n",
        "    action = select_epsilon_greedy_action(key, q_values, actor_state.count)\n",
        "    greedy_action = select_greedy_action(q_values)\n",
        "\n",
        "    action = jax.lax.select(\n",
        "        evaluation,\n",
        "        greedy_action,\n",
        "        action\n",
        "    )\n",
        "\n",
        "    next_actor_state = QActorState(actor_state.count + 1) # increment timestep counter\n",
        "\n",
        "    return action, next_actor_state\n",
        "\n",
        "Q_LEARNING_ACTOR_STATE = QActorState(0) # counter set to zero"
      ]
    },
    {
      "cell_type": "markdown",
      "metadata": {
        "id": "z884-1oNRGEr"
      },
      "source": [
        "### Обучение\n",
        "Теперь мы можем собрать все вместе, используя цикл агент-среда. Но сначала давайте объединим функцию выбора действия и функцию обучения для дополнительной скорости."
      ]
    },
    {
      "cell_type": "code",
      "execution_count": 66,
      "metadata": {
        "id": "xbdHDbd1RjM8",
        "colab": {
          "base_uri": "https://localhost:8080/",
          "height": 680
        },
        "outputId": "1087e0ef-1249-4405-970c-6a2f6076c2a9"
      },
      "outputs": [
        {
          "output_type": "stream",
          "name": "stdout",
          "text": [
            "Starting training. This may take up to 8 minutes to complete.\n",
            "Episode: 0\tEpisode Return: 19.0\tAverage Episode Return: 19.0\tEvaluator Episode Return: 9.25\n",
            "Episode: 100\tEpisode Return: 11.0\tAverage Episode Return: 13.35\tEvaluator Episode Return: 9.375\n",
            "Episode: 200\tEpisode Return: 12.0\tAverage Episode Return: 9.5\tEvaluator Episode Return: 9.25\n",
            "Episode: 300\tEpisode Return: 10.0\tAverage Episode Return: 9.9\tEvaluator Episode Return: 9.625\n",
            "Episode: 400\tEpisode Return: 10.0\tAverage Episode Return: 10.15\tEvaluator Episode Return: 9.25\n",
            "Episode: 500\tEpisode Return: 19.0\tAverage Episode Return: 42.3\tEvaluator Episode Return: 34.625\n",
            "Episode: 600\tEpisode Return: 43.0\tAverage Episode Return: 36.9\tEvaluator Episode Return: 39.375\n",
            "Episode: 700\tEpisode Return: 51.0\tAverage Episode Return: 48.05\tEvaluator Episode Return: 63.75\n",
            "Episode: 800\tEpisode Return: 49.0\tAverage Episode Return: 57.3\tEvaluator Episode Return: 57.875\n",
            "Episode: 900\tEpisode Return: 142.0\tAverage Episode Return: 141.55\tEvaluator Episode Return: 153.75\n",
            "Episode: 1000\tEpisode Return: 200.0\tAverage Episode Return: 199.95\tEvaluator Episode Return: 200.0\n"
          ]
        },
        {
          "output_type": "display_data",
          "data": {
            "text/plain": [
              "<Figure size 640x480 with 1 Axes>"
            ],
            "image/png": "[encoded data removed]"
          },
          "metadata": {}
        }
      ],
      "source": [
        "# Jit functions\n",
        "q_learning_select_action_jit = jax.jit(q_learning_select_action)\n",
        "q_learn_jit = jax.jit(q_learn)\n",
        "\n",
        "# Run environment loop\n",
        "print(\"Starting training. This may take up to 8 minutes to complete.\")\n",
        "episode_returns, evaluator_returns = run_training_loop(\n",
        "                                        env_name,\n",
        "                                        Q_LEARNING_PARAMS,\n",
        "                                        q_learning_select_action_jit,\n",
        "                                        Q_LEARNING_ACTOR_STATE,\n",
        "                                        q_learn_jit,\n",
        "                                        Q_LEARNING_LEARN_STATE,\n",
        "                                        Q_LEARNING_MEMORY,\n",
        "                                        num_episodes=1001,\n",
        "                                        train_every_timestep=True, # do learning after every timestep\n",
        "                                        video_subdir=\"q_learning\"\n",
        "                                    )\n",
        "\n",
        "plt.plot(episode_returns)\n",
        "plt.xlabel(\"Episodes\")\n",
        "plt.ylabel(\"Episode Return\")\n",
        "plt.title(\"Deep Q-Learning\")\n",
        "plt.show()"
      ]
    },
    {
      "cell_type": "markdown",
      "metadata": {
        "id": "2k0-41wbpFDE"
      },
      "source": [
        "На этом этапе, как мы надеемся, приближенная Q-функция сошлась к приемлемой политике балансировки шеста в задаче CartPole."
      ]
    },
    {
      "cell_type": "code",
      "execution_count": 68,
      "metadata": {
        "id": "t4v0ZbB4FQUs",
        "colab": {
          "base_uri": "https://localhost:8080/",
          "height": 288
        },
        "outputId": "94f75e77-bdc1-428a-b0e9-fa95dc0ece19",
        "cellView": "form"
      },
      "outputs": [
        {
          "output_type": "execute_result",
          "data": {
            "text/plain": [
              "<IPython.core.display.HTML object>"
            ],
            "text/html": [
              "\n",
              "<video width=400 controls>\n",
              "      <source src=\"data:video/mp4;base64,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\" type=\"video/mp4\">\n",
              "</video>\n"
            ]
          },
          "metadata": {},
          "execution_count": 68
        }
      ],
      "source": [
        "#@title Визуализация политики\n",
        "#@markdown Выберите номер эпизода, кратный 100 и меньший или равный 1000, и **запустите эту ячейку**.\n",
        "episode_number = 1000 #@param {type:\"number\"}\n",
        "\n",
        "assert (episode_number % 100) == 0, \"Episode number must be a multiple of 100 since we only record every 100th episode.\"\n",
        "assert episode_number < 1001, \"Episode number must be less than or equal to 1000\"\n",
        "\n",
        "\n",
        "eval_episode_number = int(episode_number / 100 * 8)\n",
        "video_path = f\"./video/q_learning/eval/rl-video-episode-{eval_episode_number}.mp4\"\n",
        "\n",
        "mp4 = open(video_path,'rb').read()\n",
        "data_url = \"data:video/mp4;base64,\" + b64encode(mp4).decode()\n",
        "HTML(\"\"\"\n",
        "<video width=400 controls>\n",
        "      <source src=\"%s\" type=\"video/mp4\">\n",
        "</video>\n",
        "\"\"\" % data_url)"
      ]
    },
    {
      "cell_type": "markdown",
      "metadata": {
        "id": "fV3YG7QOZD-B"
      },
      "source": [
        "Кроме того, существует множество алгоритмов RL, которые вносят существенные улучшения в REINFORCE и Deep Q-Learning. См. эти ресурсы:\n",
        "* [REINFORCE с базовым уровнем](https://spinningup.openai.com/en/latest/spinningup/rl_intro3.html#baselines-in-policy-gradients)\n",
        "* [Double Deep Q-Network](https://arxiv.org/pdf/1509.06461.pdf)\n",
        "* [Proximal Policy Optimisation (PPO)](https://arxiv.org/pdf/1707.06347.pdf)\n",
        "\n",
        "Если вы ищете более углубленный онлайн-курс по RL, вы можете ознакомиться с этими курсами:\n",
        "* [Reinforcement Learning Foundations on LinkedIn Learning](https://www.linkedin.com/learning/reinforcement-learning-foundations) (создано одним из наших собственных преподавателей, Хаулатом Абдулхакимом)\n",
        "* [Введение в Reinforcement Learning on FreeCodeCamp](https://www.freecodecamp.org/news/an-introduction-to-reinforcement-learning-4339519de419/)\n",
        "* [Специализация обучения с подкреплением на Coursera](https://www.coursera.org/specializations/reinforcement-learning)\n",
        "\n",
        "Наконец, самый влиятельный учебник по обучению с подкреплением доступен бесплатно онлайн:\n",
        "* [Обучение с подкреплением: введение](http://incompleteideas.net/book/the-book-2nd.html) Ричарда С. Саттона и Эндрю Г. Барто\n",
        "\n",
        "\n",
        "**Ссылки:**\n",
        "\n",
        "* [OpenAI Spinning Up](https://spinningup.openai.com/en/latest/)\n",
        "* [Deep Q-Network]()"
      ]
    }
  ],
  "metadata": {
    "colab": {
      "provenance": [],
      "gpuType": "T4"
    },
    "kernelspec": {
      "display_name": "Python 3",
      "name": "python3"
    },
    "language_info": {
      "codemirror_mode": {
        "name": "ipython",
        "version": 3
      },
      "file_extension": ".py",
      "mimetype": "text/x-python",
      "name": "python",
      "nbconvert_exporter": "python",
      "pygments_lexer": "ipython3",
      "version": "3.8.13"
    },
    "vscode": {
      "interpreter": {
        "hash": "0f35138c66f99be0fd7a1210bb4aa94a6fbaa5f29d51ad43aec0e0ea0ff050f0"
      }
    }
  },
  "nbformat": 4,
  "nbformat_minor": 0
}